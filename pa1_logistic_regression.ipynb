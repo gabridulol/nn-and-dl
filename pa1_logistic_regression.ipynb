{
  "cells": [
    {
      "cell_type": "markdown",
      "metadata": {
        "colab_type": "text",
        "id": "view-in-github"
      },
      "source": [
        "<a href=\"https://colab.research.google.com/github/gabridulol/nn-and-dl/blob/main/pa1_logistic_regression.ipynb\" target=\"_parent\"><img src=\"https://colab.research.google.com/assets/colab-badge.svg\" alt=\"Open In Colab\"/></a>"
      ]
    },
    {
      "cell_type": "markdown",
      "metadata": {
        "id": "7wX48C_3DuT_"
      },
      "source": [
        "Gabriel Rodrigues Marques (5097)"
      ]
    },
    {
      "cell_type": "markdown",
      "metadata": {
        "id": "owgUva0hvM6j"
      },
      "source": [
        "#**PA1: Logistic Regression**\n",
        "\n",
        "### **Introduction**\n",
        "\n",
        "In this programming assignment, you will implement logistic regression in Python using only the numpy library. This model will be used to solve the cat image classification problem seen during the classes.\n",
        "\n",
        "### **Objective**\n",
        "\n",
        "The objective is to learn the general structure of an artificial neural network project, which includes:\n",
        "\n",
        "1. Load and preprocess the dataset;\n",
        "2. Define the model;\n",
        "3. Initialize the weights;\n",
        "4. Choose the cost function;\n",
        "5. Calculate the gradient vector of the cost function with respect to the weights;\n",
        "6. Optimize weights with gradient descent on the training set;\n",
        "7. Evaluate the model on the test set;\n",
        "8. Apply the model to unseen data.\n",
        "\n",
        "### **Instructions**\n",
        "\n",
        "The cells where you have to write code are highlighted with the following comments:\n",
        "\n",
        "```python\n",
        "### YOUR CODE STARTS HERE ### ≈x lines\n",
        "### YOUR CODE ENDS HERE ###\n",
        "```\n",
        "\n",
        "Write your solutions only between these two comments. Note that the start comment gives you an idea of the number of lines of code expected in the solution.\n",
        "\n",
        "After each cell of this type, there will be a test cell followed by expected results, so you know if your solution is correct."
      ]
    },
    {
      "cell_type": "markdown",
      "metadata": {
        "id": "loAR-kK6zFw-"
      },
      "source": [
        "### **Part 0: Import libraries**\n",
        "\n",
        "Before starting the actual work, you need to include the numpy library and other auxiliary libraries, which will help us visualize the data and results:\n",
        "\n",
        "- **numpy**: main scientific computing library in Python.\n",
        "- **matplotlib**: main library for plotting graphs in Python.\n",
        "- **h5py**: read dataset in h5 format.\n",
        "- **PIL**: test your model with your own images."
      ]
    },
    {
      "cell_type": "code",
      "execution_count": null,
      "metadata": {
        "id": "rxydEhJ3tgTh"
      },
      "outputs": [],
      "source": [
        "import numpy as np\n",
        "import matplotlib.pyplot as plt\n",
        "import h5py\n",
        "import scipy\n",
        "from PIL import Image\n",
        "\n",
        "%matplotlib inline"
      ]
    },
    {
      "cell_type": "markdown",
      "metadata": {
        "id": "dy1XhKqodvSf"
      },
      "source": [
        "### **Part 1: Load and preprocess the dataset**\n",
        "\n",
        "#### **1.1 Download the dataset**\n",
        "\n",
        "The dataset for this project contains:\n",
        "\n",
        "- Training: $n_{tr}$ images labeled as Cat ($y=1$) or Not-cat (y=0)\n",
        "- Test: $n_{te}$ images labeled as Cat ($y=1$) or Not-cat ($y=0$)\n",
        "\n",
        "All images are square and colored. Thus, they are represented by numpy arrays of the form `(num_px, num_px, 3)`, where `num_px` is the width and height of the image and 3 refers to the color channels (RGB).\n"
      ]
    },
    {
      "cell_type": "code",
      "execution_count": null,
      "metadata": {
        "colab": {
          "base_uri": "https://localhost:8080/"
        },
        "id": "2OpXppmZdtMU",
        "outputId": "54639852-c2a9-4e24-e265-9aa9ae616708"
      },
      "outputs": [
        {
          "name": "stdout",
          "output_type": "stream",
          "text": [
            "--2025-09-16 18:11:26--  https://raw.githubusercontent.com/JhonataMiranda/CCF482/main/train_catvnoncat.h5\n",
            "Resolving raw.githubusercontent.com (raw.githubusercontent.com)... 185.199.108.133, 185.199.109.133, 185.199.110.133, ...\n",
            "Connecting to raw.githubusercontent.com (raw.githubusercontent.com)|185.199.108.133|:443... connected.\n",
            "HTTP request sent, awaiting response... 200 OK\n",
            "Length: 2572022 (2.5M) [application/octet-stream]\n",
            "Saving to: ‘train_catvnoncat.h5’\n",
            "\n",
            "train_catvnoncat.h5 100%[===================>]   2.45M  7.22MB/s    in 0.3s    \n",
            "\n",
            "2025-09-16 18:11:27 (7.22 MB/s) - ‘train_catvnoncat.h5’ saved [2572022/2572022]\n",
            "\n",
            "--2025-09-16 18:11:27--  https://raw.githubusercontent.com/JhonataMiranda/CCF482/main/test_catvnoncat.h5\n",
            "Resolving raw.githubusercontent.com (raw.githubusercontent.com)... 185.199.108.133, 185.199.110.133, 185.199.111.133, ...\n",
            "Connecting to raw.githubusercontent.com (raw.githubusercontent.com)|185.199.108.133|:443... connected.\n",
            "HTTP request sent, awaiting response... 200 OK\n",
            "Length: 616958 (602K) [application/octet-stream]\n",
            "Saving to: ‘test_catvnoncat.h5’\n",
            "\n",
            "test_catvnoncat.h5  100%[===================>] 602.50K  2.55MB/s    in 0.2s    \n",
            "\n",
            "2025-09-16 18:11:28 (2.55 MB/s) - ‘test_catvnoncat.h5’ saved [616958/616958]\n",
            "\n"
          ]
        }
      ],
      "source": [
        "!wget -O 'data/train_catvnoncat.h5' 'https://raw.githubusercontent.com/gabridulol/nn-and-dl/main/data/train_catvnoncat.h5'\n",
        "!wget -O 'data/test_catvnoncat.h5' 'https://raw.githubusercontent.com/gabridulol/nn-and-dl/main/data/test_catvnoncat.h5'\n",
        "\n",
        "train_dataset = h5py.File('train_catvnoncat.h5', \"r\")\n",
        "train_set_x_orig = np.array(train_dataset[\"train_set_x\"][:]) # training set images\n",
        "train_set_y_orig = np.array(train_dataset[\"train_set_y\"][:]) # training set image labels\n",
        "\n",
        "test_dataset = h5py.File('test_catvnoncat.h5', \"r\")\n",
        "test_set_x_orig = np.array(test_dataset[\"test_set_x\"][:]) # testing set images\n",
        "test_set_y_orig = np.array(test_dataset[\"test_set_y\"][:]) # testing set image labels\n",
        "\n",
        "classes = np.array(test_dataset[\"list_classes\"][:]) # list of classes\n",
        "\n",
        "train_set_y = train_set_y_orig.reshape((1, train_set_y_orig.shape[0]))\n",
        "test_set_y = test_set_y_orig.reshape((1, test_set_y_orig.shape[0]))"
      ]
    },
    {
      "cell_type": "markdown",
      "metadata": {
        "id": "Ulls3oGfuccl"
      },
      "source": [
        "#### **1.2 Visualization of dataset examples**\n",
        "\n",
        "Each row of `train_set_x_orig` and `test_set_x_orig` is a numpy array representing an image. You can visualize an example by running the following code. Feel free to change the value of the `index` variable and run again to see other images."
      ]
    },
    {
      "cell_type": "code",
      "execution_count": null,
      "metadata": {
        "colab": {
          "base_uri": "https://localhost:8080/",
          "height": 449
        },
        "id": "7kq89r_5s1lA",
        "outputId": "b4add7c3-2bdc-486f-cd5d-ff0a16027dcb"
      },
      "outputs": [
        {
          "name": "stdout",
          "output_type": "stream",
          "text": [
            "y = 1, it's a 'cat' picture.\n"
          ]
        },
        {
          "data": {
            "image/png": "[encoded data removed]",
            "text/plain": [
              "<Figure size 640x480 with 1 Axes>"
            ]
          },
          "metadata": {},
          "output_type": "display_data"
        }
      ],
      "source": [
        "# Plotting an image from the training set\n",
        "index = 25\n",
        "plt.imshow(train_set_x_orig[index])\n",
        "print (\"y = \" + str(train_set_y[0, index]) + \", it's a '\" + classes[np.squeeze(train_set_y[:, index])].decode(\"utf-8\") +  \"' picture.\")"
      ]
    },
    {
      "cell_type": "markdown",
      "metadata": {
        "id": "dI78bbAD0J80"
      },
      "source": [
        "#### **1.3 Problem dimensionality**\n",
        "\n",
        "This is the first cell where you will write code. Create the following variables:\n",
        "\n",
        "- `n_train` (number of training examples)\n",
        "- `n_test` (number of test examples)\n",
        "- `num_px` (height and width of an image from the dataset)\n",
        "\n",
        "Use the `shape` property of numpy arrays and remember that `train_set_x_orig` is a numpy array of shape `(m_train, num_px, num_px, 3)`."
      ]
    },
    {
      "cell_type": "code",
      "execution_count": null,
      "metadata": {
        "colab": {
          "base_uri": "https://localhost:8080/"
        },
        "id": "1T8kXknH1fWF",
        "outputId": "0cee95dc-1445-44ad-9fef-5b66ef34aa99"
      },
      "outputs": [
        {
          "name": "stdout",
          "output_type": "stream",
          "text": [
            "Number of training examples: n_train = 209\n",
            "Number of testing examples: n_test = 50\n",
            "Height/Width of the images: num_px = 64\n",
            "Each image is of size: (64, 64, 3)\n",
            "train_set_x shape: (209, 64, 64, 3)\n",
            "train_set_y shape: (1, 209)\n",
            "test_set_x shape: (50, 64, 64, 3)\n",
            "test_set_y shape: (1, 50)\n"
          ]
        }
      ],
      "source": [
        "### YOUR CODE STARTS HERE ### (≈3 lines)\n",
        "n_train = train_set_x_orig.shape[0]\n",
        "n_test = test_set_x_orig.shape[0]\n",
        "num_px = train_set_x_orig.shape[1]\n",
        "### YOUR CODE ENDS HERE ###\n",
        "\n",
        "print (\"Number of training examples: n_train = \" + str(n_train))\n",
        "print (\"Number of testing examples: n_test = \" + str(n_test))\n",
        "print (\"Height/Width of the images: num_px = \" + str(num_px))\n",
        "print (\"Each image is of size: (\" + str(num_px) + \", \" + str(num_px) + \", 3)\")\n",
        "print (\"train_set_x shape: \" + str(train_set_x_orig.shape))\n",
        "print (\"train_set_y shape: \" + str(train_set_y.shape))\n",
        "print (\"test_set_x shape: \" + str(test_set_x_orig.shape))\n",
        "print (\"test_set_y shape: \" + str(test_set_y.shape))"
      ]
    },
    {
      "cell_type": "markdown",
      "metadata": {
        "id": "B4oJphhI8NFG"
      },
      "source": [
        "**Expected Results**:\n",
        "<table style=\"width:15%\">\n",
        "  <tr>\n",
        "    <td>n_train</td>\n",
        "    <td>209</td>\n",
        "  </tr>\n",
        "  \n",
        "  <tr>\n",
        "    <td>n_test</td>\n",
        "    <td> 50 </td>\n",
        "  </tr>\n",
        "  \n",
        "  <tr>\n",
        "    <td>num_px</td>\n",
        "    <td> 64 </td>\n",
        "  </tr>\n",
        "  \n",
        "</table>"
      ]
    },
    {
      "cell_type": "markdown",
      "metadata": {
        "id": "38NeHKbO8o3d"
      },
      "source": [
        "#### **1.4 Preprocessing the data**\n",
        "\n",
        "#### **1.4.1 Transforming images into feature vectors**\n",
        "\n",
        "To process the images from the dataset with logistic regression, we need to transform them into feature vectors. To do this, we will flatten these images, originally with shape `(num_px, num_px, 3)`, into vectors of shape `(num_px * num_px * 3, 1)`. Use the reshape function of numpy arrays to modify the shape of the training `(train_set_x_orig)` and test `(test_set_x_orig)` images. Store the flattened training and test images in new arrays called `train_set_x_flatten` and `test_set_x_flatten`, respectively."
      ]
    },
    {
      "cell_type": "code",
      "execution_count": null,
      "metadata": {
        "colab": {
          "base_uri": "https://localhost:8080/"
        },
        "id": "QFyYorLC-sdq",
        "outputId": "1c482e61-8b74-4f2b-8592-cfe306d47bb6"
      },
      "outputs": [
        {
          "name": "stdout",
          "output_type": "stream",
          "text": [
            "train_set_x_flatten shape: (12288, 209)\n",
            "train_set_y shape: (1, 209)\n",
            "test_set_x_flatten shape: (12288, 50)\n",
            "test_set_y shape: (1, 50)\n",
            "First 5 features (pixel values) of the first training example: [17 31 56 22 33]\n"
          ]
        }
      ],
      "source": [
        "### YOUR CODE STARTS HERE ### (≈2 lines)\n",
        "train_set_x_flatten = train_set_x_orig.reshape(n_train, -1).T\n",
        "test_set_x_flatten = test_set_x_orig.reshape(n_test, -1).T\n",
        "### YOUR CODE ENDS HERE ###\n",
        "\n",
        "print (\"train_set_x_flatten shape: \" + str(train_set_x_flatten.shape))\n",
        "print (\"train_set_y shape: \" + str(train_set_y.shape))\n",
        "print (\"test_set_x_flatten shape: \" + str(test_set_x_flatten.shape))\n",
        "print (\"test_set_y shape: \" + str(test_set_y.shape))\n",
        "print (\"First 5 features (pixel values) of the first training example: \" + str(train_set_x_flatten[0:5,0]))"
      ]
    },
    {
      "cell_type": "markdown",
      "metadata": {
        "id": "Y_x_hGN0_akI"
      },
      "source": [
        "**Expected Results**:\n",
        "\n",
        "<table style=\"width:35%\">\n",
        "  <tr>\n",
        "    <td>train_set_x_flatten shape</td>\n",
        "    <td> (12288, 209)</td>\n",
        "  </tr>\n",
        "  <tr>\n",
        "    <td>train_set_y shape</td>\n",
        "    <td>(1, 209)</td>\n",
        "  </tr>\n",
        "  <tr>\n",
        "    <td>test_set_x_flatten shape</td>\n",
        "    <td>(12288, 50)</td>\n",
        "  </tr>\n",
        "  <tr>\n",
        "    <td>test_set_y shape</td>\n",
        "    <td>(1, 50)</td>\n",
        "  </tr>\n",
        "  <tr>\n",
        "  <td>First 5 features (pixel values) of the first training example</td>\n",
        "  <td>[17 31 56 22 33]</td>\n",
        "  </tr>\n",
        "</table>"
      ]
    },
    {
      "cell_type": "markdown",
      "metadata": {
        "id": "TqxDPzMvCLNC"
      },
      "source": [
        "#### **1.4.2 Normalize pixel values**\n",
        "\n",
        "A very common image preprocessing step in machine learning is to normalize pixel values between 0 and 1. To do this, simply divide each row of the dataset by 255 (the maximum value of a pixel channel). Divide the `train_set_x_flatten` and `test_set_x_flatten` arrays of flattened images by 255 and store the results in new arrays called `train_set_x` and `test_set_x`."
      ]
    },
    {
      "cell_type": "code",
      "execution_count": null,
      "metadata": {
        "colab": {
          "base_uri": "https://localhost:8080/"
        },
        "id": "7QYMmzNrDFC_",
        "outputId": "fcb25425-c35b-4510-8a63-c2c7ab40683c"
      },
      "outputs": [
        {
          "name": "stdout",
          "output_type": "stream",
          "text": [
            "First 5 features of the normalized feature vector of the first training example: [0.06666667 0.12156863 0.21960784 0.08627451 0.12941176]\n"
          ]
        }
      ],
      "source": [
        "### YOUR CODE STARTS HERE ### (≈2 lines)\n",
        "train_set_x = train_set_x_flatten / 255.\n",
        "test_set_x = test_set_x_flatten / 255.\n",
        "### YOUR CODE ENDS HERE ###\n",
        "\n",
        "print (\"First 5 features of the normalized feature vector of the first training example: \" + str(train_set_x[0:5,0]))"
      ]
    },
    {
      "cell_type": "markdown",
      "metadata": {
        "id": "8cs6JEGgEZ2H"
      },
      "source": [
        "**Expected Results**:\n",
        "\n",
        "<table style=\"width:35%\">\n",
        "  <tr>\n",
        "    <td>First 5 features of the normalized feature vector of the first training example</td>\n",
        "    <td> [0.06666667 0.12156863 0.21960784 0.08627451 0.12941176]</td>\n",
        "  </tr>\n",
        "</table>"
      ]
    },
    {
      "cell_type": "markdown",
      "metadata": {
        "id": "xWwpJRq9F5Zc"
      },
      "source": [
        "### **Part 2: Defining the model**\n",
        "\n",
        "The model we will use for classifying cat images is logistic regression. Remember that this model has the following hypothesis:\n",
        "\n",
        "$\\hat{y} = h(x) = \\sigma(w \\cdot x + b)$, where:\n",
        "\n",
        "- $x \\in R^d$ is a feature vector;\n",
        "- $w \\in R^d$ is the weight vector (which we will learn);\n",
        "- $b \\in R$ is a bias independent of $x$ (which we will also learn);\n",
        "- $w \\cdot x$ is the dot product of $w$ and $x$;\n",
        "- $\\sigma$ is the logistic or sigmoid function $\\frac{1}{1 + e^{-z}}$.\n",
        "\n",
        "Also remember that the loss function for this model is Binary Cross-Entropy, defined as:\n",
        "\n",
        "$L(h) = -\\frac{1}{m}\\sum_{i=1}^{m}(y_i * log\\ \\hat{y^{(i)}} + (1 - y^{(i)})*log(1 - \\hat{y^{(i)}}))$, where:\n",
        "\n",
        "- $m$ is the number of examples in the training set;\n",
        "- $y_i$ is the true label of example $x_i$;\n",
        "- $\\hat{y^{(i)}}$ is the estimated probability by the logistic function that example $x^{(i)}$ is of the Cat class ($y = 1$).\n",
        "\n",
        "#### **2.1 Sigmoid Function**\n",
        "\n",
        "To make your code more readable, implement the sigmoid function independently of logistic regression."
      ]
    },
    {
      "cell_type": "code",
      "execution_count": null,
      "metadata": {
        "id": "FphPGEOQV1EF"
      },
      "outputs": [],
      "source": [
        "def sigmoid(z):\n",
        "    \"\"\"\n",
        "    Computes the sigmoid of z\n",
        "\n",
        "    Arguments:\n",
        "    z -- A scalar or numpy array of any size.\n",
        "\n",
        "    Return:\n",
        "    s -- sigmoid(z)\n",
        "    \"\"\"\n",
        "\n",
        "    ### YOUR CODE STARTS HERE ### (≈1 line)\n",
        "    s = 1 / (1 + np.exp(-z))\n",
        "    ### YOUR CODE ENDS HERE ###\n",
        "\n",
        "    return s"
      ]
    },
    {
      "cell_type": "code",
      "execution_count": null,
      "metadata": {
        "colab": {
          "base_uri": "https://localhost:8080/"
        },
        "id": "LPqBnD0AWYr-",
        "outputId": "9a5b969f-ffbf-4e55-9c10-a82bde4064f9"
      },
      "outputs": [
        {
          "name": "stdout",
          "output_type": "stream",
          "text": [
            "sigmoid([0, 2]) = [0.5        0.88079708]\n"
          ]
        }
      ],
      "source": [
        "print (\"sigmoid([0, 2]) = \" + str(sigmoid(np.array([0,2]))))"
      ]
    },
    {
      "cell_type": "markdown",
      "metadata": {
        "id": "S7k_gUgsWfHs"
      },
      "source": [
        "**Expected Results**:\n",
        "\n",
        "<table>\n",
        "  <tr>\n",
        "    <td>sigmoid([0, 2])</td>\n",
        "    <td>[0.5, 0.88079708]</td>\n",
        "  </tr>\n",
        "</table>"
      ]
    },
    {
      "cell_type": "markdown",
      "metadata": {
        "id": "l_gVpmIrX0BO"
      },
      "source": [
        "#### **2.2 Logistic Regression**\n",
        "\n",
        "Using the `sigmoid` function implemented in the previous step and the `np.dot` function from numpy, implement the logistic regression hypothesis. Note that the input $X$ is a matrix, where each column is a feature vector $x$ from the training set. As numpy performs vector operations, you don't need to use a loop to process each row individually, you can execute `logistic_regression(X)`, passing the matrix $X$ as an argument, and numpy will return a vector of predictions $\\hat{Y}$, with one prediction for each row of $X$."
      ]
    },
    {
      "cell_type": "code",
      "execution_count": null,
      "metadata": {
        "id": "Wf52C7vtXzCb"
      },
      "outputs": [],
      "source": [
        "def logistic_regression(X, w, b):\n",
        "    \"\"\"\n",
        "    Computes the logistic regression hypothesis h(x) = sigmoid(wx + b)\n",
        "\n",
        "    Arguments:\n",
        "    w -- weights of size (1, num_px * num_px * 3)\n",
        "    b -- bias (scalar)\n",
        "    X -- data of size (num_px * num_px * 3, number of examples)\n",
        "\n",
        "    Return:\n",
        "    Y_hat -- prediction for each example in X of size (1, number of examples)\n",
        "    \"\"\"\n",
        "\n",
        "    ### YOUR CODE STARTS HERE ### (≈1 line)\n",
        "    Y_hat = sigmoid(np.dot(w, X) + b)\n",
        "    ### YOUR CODE ENDS HERE ###\n",
        "\n",
        "    return Y_hat"
      ]
    },
    {
      "cell_type": "code",
      "execution_count": null,
      "metadata": {
        "colab": {
          "base_uri": "https://localhost:8080/"
        },
        "id": "627hIravbr4L",
        "outputId": "abc31d7e-e64f-44e4-edd1-853a6c0c3ffa"
      },
      "outputs": [
        {
          "name": "stdout",
          "output_type": "stream",
          "text": [
            "Y_hat = [[0.99987661 0.99999386 0.00449627]]\n"
          ]
        }
      ],
      "source": [
        "w, b, X = np.array([[1.,2.]]), 2., np.array([[1.,2.,-1.],[3.,4.,-3.2]])\n",
        "Y_hat = logistic_regression(X, w, b)\n",
        "print(\"Y_hat = \" + str(Y_hat))"
      ]
    },
    {
      "cell_type": "markdown",
      "metadata": {
        "id": "KpxJqdTxFNI4"
      },
      "source": [
        "**Expected Results**:\n",
        "\n",
        "<table>\n",
        "  <tr>\n",
        "    <td>Y_hat</td>\n",
        "    <td>[[0.99987661 0.99999386 0.00449627]]</td>\n",
        "  </tr>\n",
        "</table>"
      ]
    },
    {
      "cell_type": "markdown",
      "metadata": {
        "id": "ao68gs6cjKm5"
      },
      "source": [
        "### **Part 3: Initialize weights**\n",
        "\n",
        "As in logistic regression we have a convex optimization problem, we can initialize the weights with zeros or randomly. When we implement artificial neural networks with multiple layers, we will have to be a little more careful in initializing the weights. Therefore, as a way to prepare for this future step, here you will also have to implement a weight initialization function. In this function, you will use the `np.zeros` function to initialize the weights of logistic regression with zeros."
      ]
    },
    {
      "cell_type": "code",
      "execution_count": null,
      "metadata": {
        "id": "EvED0TFvj6Ap"
      },
      "outputs": [],
      "source": [
        "def initialize_weights(d):\n",
        "    \"\"\"\n",
        "    Creates a vector of zeros of shape (1, d) for w and initializes b to 0.\n",
        "\n",
        "    Argument:\n",
        "    d -- the size of each example in the dataset (num_px * num_px * 3)\n",
        "\n",
        "    Returns:\n",
        "    w -- initialized vector of shape (1, d)\n",
        "    b -- initialized scalar (corresponds to the bias)\n",
        "    \"\"\"\n",
        "\n",
        "    ### YOUR CODE STARTS HERE ### (≈2 lines)\n",
        "    w = np.zeros((1, d))\n",
        "    b = 0\n",
        "    ### YOUR CODE ENDS HERE ###\n",
        "\n",
        "    assert(w.shape == (1, d))\n",
        "    assert(isinstance(b, float) or isinstance(b, int))\n",
        "\n",
        "    return w, b"
      ]
    },
    {
      "cell_type": "code",
      "execution_count": null,
      "metadata": {
        "colab": {
          "base_uri": "https://localhost:8080/"
        },
        "id": "DSzu0B4ylBNr",
        "outputId": "1bcd80a7-b9a3-4150-86dc-50ca685bc8b0"
      },
      "outputs": [
        {
          "name": "stdout",
          "output_type": "stream",
          "text": [
            "w = [[0. 0.]]\n",
            "b = 0\n"
          ]
        }
      ],
      "source": [
        "w, b = initialize_weights(d=2)\n",
        "print (\"w = \" + str(w))\n",
        "print (\"b = \" + str(b))"
      ]
    },
    {
      "cell_type": "markdown",
      "metadata": {
        "id": "iaRkpbURFxxX"
      },
      "source": [
        "**Expected Results**:\n",
        "\n",
        "<table>\n",
        "    <tr>\n",
        "        <td>  w  </td>\n",
        "        <td> [[ 0. 0.]] </td>\n",
        "    </tr>\n",
        "    <tr>\n",
        "        <td> b </td>\n",
        "        <td> 0 </td>\n",
        "    </tr>\n",
        "</table>"
      ]
    },
    {
      "cell_type": "markdown",
      "metadata": {
        "id": "zwpJf7G0lb0s"
      },
      "source": [
        "### **Part 4: Defining a loss function**\n",
        "\n",
        "Usually, the loss function chosen for binary classification problems with logistic regression is Binary Cross-Entropy, as it defines a convex optimization problem. Use the `np.log` function to implement Binary Cross-Entropy for a given prediction vector `Y_hat`."
      ]
    },
    {
      "cell_type": "code",
      "execution_count": null,
      "metadata": {
        "id": "9244oOJ_m3of"
      },
      "outputs": [],
      "source": [
        "def binary_cross_entropy(Y, Y_hat):\n",
        "    \"\"\"\n",
        "    Computes the binary cross entropy loss.\n",
        "\n",
        "    Argument:\n",
        "    Y -- true \"label\" vector (containing 0 if non-cat, 1 if cat) of size (1, number of examples)\n",
        "    Y_hat -- predictions vector (containing the probability of being cat) of size (1, number of examples)\n",
        "\n",
        "    Returns:\n",
        "    loss -- the total loss (scalar) of the predictions Y_hat\n",
        "    \"\"\"\n",
        "    n = X.shape[1]\n",
        "\n",
        "    ### YOUR CODE STARTS HERE ### (≈1 line)\n",
        "    loss = - (1/n) * np.sum(Y * np.log(Y_hat) + (1 - Y) * np.log(1 - Y_hat))\n",
        "    ### YOUR CODE ENDS HERE ###\n",
        "\n",
        "    return loss"
      ]
    },
    {
      "cell_type": "code",
      "execution_count": null,
      "metadata": {
        "colab": {
          "base_uri": "https://localhost:8080/"
        },
        "id": "ct99AW3FoOj1",
        "outputId": "87defcc6-8411-41e9-f4fb-8413ab6975de"
      },
      "outputs": [
        {
          "name": "stdout",
          "output_type": "stream",
          "text": [
            "loss = 5.801545319394553\n"
          ]
        }
      ],
      "source": [
        "w, b, X, Y = np.array([[1.,2.]]), 2., np.array([[1.,2.,-1.],[3.,4.,-3.2]]), np.array([[1,0,1]])\n",
        "Y_hat = logistic_regression(X, w, b)\n",
        "loss = binary_cross_entropy(Y, Y_hat)\n",
        "print(\"loss = \" + str(loss))"
      ]
    },
    {
      "cell_type": "markdown",
      "metadata": {
        "id": "NgzuUAhNGBi1"
      },
      "source": [
        "**Expected Results**:\n",
        "\n",
        "<table>\n",
        "    <tr>\n",
        "        <td>  loss  </td>\n",
        "        <td> 5.801545319394553 </td>\n",
        "    </tr>\n",
        "</table>"
      ]
    },
    {
      "cell_type": "markdown",
      "metadata": {
        "id": "4j74OI-MpGVh"
      },
      "source": [
        "### **Part 5: Calculating the gradient vector**\n",
        "\n",
        "Compute the partial derivatives `dw` and `db` of the binary cross-entropy $L$ with respect to the weights `w` and `b` as we derived in class:\n",
        "\n",
        "$$ \\frac{\\partial L}{\\partial w} = \\frac{1}{m} (\\hat{Y}-Y) \\cdot X^T$$\n",
        "$$ \\frac{\\partial L}{\\partial b} = \\frac{1}{m} \\sum_{i=1}^m (\\hat{y}^{(i)}-y^{(i)})$$"
      ]
    },
    {
      "cell_type": "code",
      "execution_count": null,
      "metadata": {
        "id": "8ob7m_jUpn8R"
      },
      "outputs": [],
      "source": [
        "def gradient(X, Y, Y_Hat):\n",
        "    \"\"\"\n",
        "    Computes the gradient of the binary cross entropy loss with respect to the logistic regression weights.\n",
        "\n",
        "    Arguments:\n",
        "    X -- data of size (num_px * num_px * 3, number of examples)\n",
        "    Y -- true \"label\" vector (containing 0 if non-cat, 1 if cat) of size (1, number of examples)\n",
        "    Y_hat -- predictions vector (containing the probability of being cat) of size (1, number of examples)\n",
        "\n",
        "    Returns:\n",
        "    dw -- gradient of the loss with respect to w, thus same shape as w\n",
        "    db -- gradient of the loss with respect to b, thus same shape as b\n",
        "    \"\"\"\n",
        "    n = X.shape[1]\n",
        "\n",
        "    ### YOUR CODE STARTS HERE ### (≈2 lines)\n",
        "    dw = (1/n) * np.dot(X, (Y_Hat - Y).T).T\n",
        "    db = (1/n) * np.sum(Y_Hat - Y)\n",
        "    ### YOUR CODE ENDS HERE ###\n",
        "\n",
        "    grads = {\"dw\": dw, \"db\": db}\n",
        "\n",
        "    return grads"
      ]
    },
    {
      "cell_type": "code",
      "execution_count": null,
      "metadata": {
        "colab": {
          "base_uri": "https://localhost:8080/"
        },
        "id": "tXlJrrTxsQQO",
        "outputId": "cbe1424d-253b-479b-bf17-ab5ed91afc7f"
      },
      "outputs": [
        {
          "name": "stdout",
          "output_type": "stream",
          "text": [
            "dw = [[0.99845601 2.39507239]]\n",
            "db = 0.001455578136784208\n"
          ]
        }
      ],
      "source": [
        "w, b, X, Y = np.array([[1.,2.]]), 2., np.array([[1.,2.,-1.],[3.,4.,-3.2]]), np.array([[1,0,1]])\n",
        "Y_hat = logistic_regression(X, w, b)\n",
        "grads = gradient(X, Y, Y_hat)\n",
        "print (\"dw = \" + str(grads[\"dw\"]))\n",
        "print (\"db = \" + str(grads[\"db\"]))"
      ]
    },
    {
      "cell_type": "markdown",
      "metadata": {
        "id": "9Dz_S-EEGSpZ"
      },
      "source": [
        "**Expected Results**:\n",
        "\n",
        "<table>\n",
        "    <tr>\n",
        "      <td>dw</td>\n",
        "      <td> [[ 0.99845601 2.39507239 ]]</td>\n",
        "    </tr>\n",
        "    <tr>\n",
        "        <td>db</td>\n",
        "        <td> 0.00145557813678 </td>\n",
        "    </tr>\n",
        "\n",
        "</table>"
      ]
    },
    {
      "cell_type": "markdown",
      "metadata": {
        "id": "Chodg_41vmSS"
      },
      "source": [
        "### **Part 6: Optimizing weights with gradient descent**\n",
        "\n",
        "Use the functions implemented above `initialize_weights`, `logistic_regression`, `binary_cross_entropy`, and `gradient` to implement the gradient descent algorithm and optimize the weights $w$ and $b$ of logistic regression."
      ]
    },
    {
      "cell_type": "code",
      "execution_count": null,
      "metadata": {
        "id": "g9Ybgk9Kvup6"
      },
      "outputs": [],
      "source": [
        "def optimize(X_train, Y_train, epochs, learning_rate, print_loss = False):\n",
        "    \"\"\"\n",
        "    This function optimizes w and b by running a gradient descent algorithm\n",
        "\n",
        "    Arguments:\n",
        "    X -- data of shape (num_px * num_px * 3, number of examples)\n",
        "    Y -- true \"label\" vector (containing 0 if non-cat, 1 if cat), of shape (1, number of examples)\n",
        "    w -- weights, a numpy array of size (1, num_px * num_px * 3)\n",
        "    b -- bias, a scalar\n",
        "\n",
        "    epochs -- number of iterations of the optimization loop\n",
        "    learning_rate -- learning rate of the gradient descent update rule\n",
        "    print_loss -- True to print the loss every 100 steps\n",
        "\n",
        "    Returns:\n",
        "    params -- dictionary containing the weights w and bias b\n",
        "    losses -- list of all the losses computed during the optimization, this will be used to plot the learning curve.\n",
        "    \"\"\"\n",
        "    # Initialize weights\n",
        "    ### YOUR CODE STARTS HERE ### (≈1 lines)\n",
        "\n",
        "    w, b = initialize_weights(X_train.shape[0])\n",
        "\n",
        "    ### YOUR CODE ENDS HERE ###\n",
        "\n",
        "    losses = []\n",
        "    for i in range(epochs):\n",
        "        # Compute Y_hat predictions with logistic regression\n",
        "        ### YOUR CODE STARTS HERE ### (≈1 line)\n",
        "        Y_hat = logistic_regression(X_train, w, b)\n",
        "        ### YOUR CODE ENDS HERE ###\n",
        "\n",
        "        # Compute the loss for predictions Y_hat\n",
        "        ### YOUR CODE STARTS HERE ### (≈1 line)\n",
        "        loss = binary_cross_entropy(Y_train, Y_hat)\n",
        "        ### YOUR CODE ENDS HERE ###\n",
        "\n",
        "        # Compute the gradient of your loss function with respect to w and b\n",
        "        ### YOUR CODE STARTS HERE ### (≈1 line)\n",
        "        grads = gradient(X_train, Y_train, Y_hat)\n",
        "        ### YOUR CODE ENDS HERE ###\n",
        "\n",
        "        # Store partial derivatives from the gradient vector\n",
        "        dw = grads[\"dw\"]\n",
        "        db = grads[\"db\"]\n",
        "\n",
        "        # Update the weights w and b using the gradient descent update rule\n",
        "        ### YOUR CODE STARTS HERE ### (≈2 lines)\n",
        "        w = w - learning_rate * dw\n",
        "        b = b - learning_rate * db\n",
        "        ### YOUR CODE ENDS HERE ###\n",
        "\n",
        "        # Store the loss values\n",
        "        if i % 100 == 0:\n",
        "            losses.append(loss)\n",
        "\n",
        "        # Print the loss value after each Imprime a perda a cada 100 iterações de treinamento\n",
        "        if print_loss and i % 100 == 0:\n",
        "            print (\"Loss after iteration %i: %f\" %(i, loss))\n",
        "\n",
        "    params = {\"w\": w, \"b\": b}\n",
        "\n",
        "    return params, losses"
      ]
    },
    {
      "cell_type": "code",
      "execution_count": null,
      "metadata": {
        "colab": {
          "base_uri": "https://localhost:8080/"
        },
        "id": "2RWp53a2xkF2",
        "outputId": "3f18b685-6142-4ec1-e62a-730f75feeb81"
      },
      "outputs": [
        {
          "name": "stdout",
          "output_type": "stream",
          "text": [
            "w = [[ 0.00961402 -0.0264683  -0.01226513 ... -0.01144453 -0.02944783\n",
            "   0.02378106]]\n",
            "b = -0.015906243999692968\n"
          ]
        }
      ],
      "source": [
        "epochs = 2000\n",
        "learning_rate = 0.005\n",
        "params, losses = optimize(train_set_x, train_set_y, epochs, learning_rate, print_loss = False)\n",
        "w = params[\"w\"]\n",
        "b = params[\"b\"]\n",
        "print (\"w = \" + str(w))\n",
        "print (\"b = \" + str(b))"
      ]
    },
    {
      "cell_type": "markdown",
      "metadata": {
        "id": "4pGHIxs9GsVz"
      },
      "source": [
        "**Expected Results**:\n",
        "\n",
        "<table>\n",
        "    <tr>\n",
        "      <td>w</td>\n",
        "      <td> [[ 0.00961402 -0.0264683  -0.01226513 ... -0.01144453 -0.02944783 0.02378106]]</td>\n",
        "    </tr>\n",
        "    <tr>\n",
        "        <td>b</td>\n",
        "        <td> -0.015906243999693 </td>\n",
        "    </tr>\n",
        "\n",
        "</table>"
      ]
    },
    {
      "cell_type": "code",
      "execution_count": null,
      "metadata": {
        "colab": {
          "base_uri": "https://localhost:8080/",
          "height": 472
        },
        "id": "PkCoZbMD4FYm",
        "outputId": "c82521b4-798f-4a10-ff64-fd156aef547f"
      },
      "outputs": [
        {
          "data": {
            "image/png": "[encoded data removed]",
            "text/plain": [
              "<Figure size 640x480 with 1 Axes>"
            ]
          },
          "metadata": {},
          "output_type": "display_data"
        }
      ],
      "source": [
        "# Plot learning curve\n",
        "plt.plot(losses)\n",
        "plt.ylabel('Loss')\n",
        "plt.xlabel('iterations (per hundreds)')\n",
        "plt.title(\"Learning rate = \" + str(learning_rate))\n",
        "plt.show()"
      ]
    },
    {
      "cell_type": "markdown",
      "metadata": {
        "id": "PNV4sngz5UyR"
      },
      "source": [
        "### **Part 7: Evaluating the model on the test set**\n",
        "\n",
        "Finally, apply the threshold $\\hat{y} =\n",
        "\\begin{cases}\n",
        "1,\\ \\text{if}\\ h(x) \\geq 0.5\\\n",
        "0,\\  \\text{if}\\ h(x) < 0.5\\\n",
        "\\end{cases}$ to classify all examples of a matrix $X$ of examples."
      ]
    },
    {
      "cell_type": "code",
      "execution_count": null,
      "metadata": {
        "id": "i7nFBn_Z5j6s"
      },
      "outputs": [],
      "source": [
        "def predict(X, w, b):\n",
        "    '''\n",
        "    Predict whether the label is 0 or 1 using learned logistic regression parameters (w, b)\n",
        "\n",
        "    Arguments:\n",
        "    w -- weights, a numpy array of size (1, num_px * num_px * 3)\n",
        "    b -- bias, a scalar\n",
        "    X -- data of size (num_px * num_px * 3, number of examples)\n",
        "\n",
        "    Returns:\n",
        "    Y_prediction -- a numpy array (vector) containing all predictions (0 or 1) for the examples in X\n",
        "    '''\n",
        "    ### YOUR CODE STARTS HERE ### (≈2 lines)\n",
        "    Y_hat = logistic_regression(X, w, b)\n",
        "    Y_prediction = (Y_hat > 0.5).astype(int)\n",
        "    ### YOUR CODE ENDS HERE ###\n",
        "\n",
        "    return Y_prediction"
      ]
    },
    {
      "cell_type": "code",
      "execution_count": null,
      "metadata": {
        "colab": {
          "base_uri": "https://localhost:8080/"
        },
        "id": "GVS7bxf96Bbb",
        "outputId": "31f7e16d-3feb-4bbc-cbc7-c374aa989994"
      },
      "outputs": [
        {
          "name": "stdout",
          "output_type": "stream",
          "text": [
            "train accuracy: 99.04306220095694 %\n",
            "test accuracy: 70.0 %\n"
          ]
        }
      ],
      "source": [
        "Y_prediction_train = predict(train_set_x, w, b)\n",
        "Y_prediction_test = predict(test_set_x, w, b)\n",
        "\n",
        "print(\"train accuracy: {} %\".format(100 - np.mean(np.abs(Y_prediction_train - train_set_y)) * 100))\n",
        "print(\"test accuracy: {} %\".format(100 - np.mean(np.abs(Y_prediction_test - test_set_y)) * 100))"
      ]
    },
    {
      "cell_type": "markdown",
      "metadata": {
        "id": "fRFrMr8WG8U-"
      },
      "source": [
        "**Expected Results**:\n",
        "<table>\n",
        "    <tr>\n",
        "        <td>train Accuracy  </td>\n",
        "        <td> 99.04306220095694 % </td>\n",
        "    </tr>\n",
        "    <tr>\n",
        "        <td> test Accuracy </td>\n",
        "        <td> 70.0 % </td>\n",
        "    </tr>\n",
        "</table>\n",
        "\n",
        "If you achieved the accuracy results above, congratulations! You have successfully completed this project! Now move on to the next step to use the classifier you trained on your own images."
      ]
    },
    {
      "cell_type": "markdown",
      "metadata": {
        "id": "P5lKU_WgCAvl"
      },
      "source": [
        "### **Part 8: Applying the model to unseen data**\n",
        "\n",
        "To test your model with your own images, you will have to upload the images you want to test to your UFV Google Drive. Then configure the `image_path` variable in the cell below to point to the path of the image in your Google Drive. Note that the path to the root directory of your Google Drive is \"/content/gdrive/MyDrive/\". Therefore, if your image is in the root of your Google drive and is called \"my_cat.jpg\", the variable should be set as `image_path = /content/gdrive/MyDrive/my_cat.jpg`"
      ]
    },
    {
      "cell_type": "code",
      "execution_count": null,
      "metadata": {
        "colab": {
          "base_uri": "https://localhost:8080/",
          "height": 467
        },
        "id": "Hc_vxmsECIG7",
        "outputId": "990b482e-7f4f-412f-de99-5e8048ccd5b8"
      },
      "outputs": [
        {
          "name": "stdout",
          "output_type": "stream",
          "text": [
            "Mounted at /content/gdrive\n",
            "y = 1, your algorithm predicts a \"cat\" picture.\n"
          ]
        },
        {
          "data": {
            "image/png": "[encoded data removed]",
            "text/plain": [
              "<Figure size 640x480 with 1 Axes>"
            ]
          },
          "metadata": {},
          "output_type": "display_data"
        }
      ],
      "source": [
        "from google.colab import drive\n",
        "drive.mount('/content/gdrive')\n",
        "\n",
        "### YOUR CODE STARTS HERE ### (≈1 line)\n",
        "image_path = \"/content/gdrive/MyDrive/my_cat.jpg\"\n",
        "### YOUR CODE ENDS HERE ###\n",
        "\n",
        "# Preprocess the image to fit your algorithm.\n",
        "with Image.open(image_path) as im:\n",
        "  low_res_image = np.array(im.resize((num_px, num_px)))\n",
        "\n",
        "x = low_res_image.reshape((num_px * num_px * 3, 1))\n",
        "y = predict(x, w, b)\n",
        "\n",
        "plt.imshow(low_res_image)\n",
        "print(\"y = \" + str(np.squeeze(y)) + \", your algorithm predicts a \\\"\" + classes[int(np.squeeze(y)),].decode(\"utf-8\") +  \"\\\" picture.\")"
      ]
    }
  ],
  "metadata": {
    "colab": {
      "include_colab_link": true,
      "provenance": []
    },
    "kernelspec": {
      "display_name": "Python 3",
      "name": "python3"
    },
    "language_info": {
      "name": "python"
    }
  },
  "nbformat": 4,
  "nbformat_minor": 0
}
