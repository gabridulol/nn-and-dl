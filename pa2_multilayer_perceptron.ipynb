{
  "nbformat": 4,
  "nbformat_minor": 0,
  "metadata": {
    "colab": {
      "provenance": [],
      "gpuType": "T4",
      "include_colab_link": true
    },
    "kernelspec": {
      "name": "python3",
      "display_name": "Python 3"
    },
    "language_info": {
      "name": "python"
    }
  },
  "cells": [
    {
      "cell_type": "markdown",
      "metadata": {
        "id": "view-in-github",
        "colab_type": "text"
      },
      "source": [
        "<a href=\"https://colab.research.google.com/github/gabridulol/nn-and-dl/blob/main/pa2_multilayer_perceptron.ipynb\" target=\"_parent\"><img src=\"https://colab.research.google.com/assets/colab-badge.svg\" alt=\"Open In Colab\"/></a>"
      ]
    },
    {
      "cell_type": "markdown",
      "source": [
        "#**PA2: Multilayer Perceptron**\n",
        "\n",
        "### **Introduction**\n",
        "In this programming assignment, you will implement the Multilayer Perceptron (MLP) in Python using only the numpy library. This implementation will allow the creation of neural networks with any number of layers. As in the previous project, this model will also be used to solve the problem of classifying cat images. At the end of this activity, you will have a deep neural network with considerably better performance than the logistic regression implemented in the previous project.\n",
        "\n",
        "### **Objective**\n",
        "\n",
        "The main objective of this project is to learn the implementation of the MLP algorithm with a flexible number of layers. Mainly the forward pass and backpropagation of errors. Additionally, you will implement the ReLU activation function and gain experience in comparing neural models of different sizes.\n",
        "\n",
        "### **Instructions**\n",
        "\n",
        "The cells where you need to write code are highlighted with the following comments:\n",
        "\n",
        "```python\n",
        "### YOUR CODE STARTS HERE ### ≈x lines\n",
        "### YOUR CODE ENDS HERE ###\n",
        "```\n",
        "\n",
        "Write your solutions only between these two comments. Note that the starting comment gives you an idea of the number of lines of code expected in the solution.\n",
        "\n",
        "After each cell of this type, there will be a test cell followed by expected results, so you can know if your solution is correct."
      ],
      "metadata": {
        "id": "owgUva0hvM6j"
      }
    },
    {
      "cell_type": "markdown",
      "source": [
        "### **Part 0: Import libraries**\n",
        "\n",
        "As we did in the previous assignment, our first task is to load the numpy library and other auxiliary libraries, which will help us visualize the data and results:\n",
        "\n",
        "- **numpy**: main scientific computing library in Python.\n",
        "- **matplotlib**: main library for plotting graphs in Python.\n",
        "- **h5py**: read datasets in h5 format.\n",
        "- **PIL**: test your model with your own images.\n",
        "\n",
        "Note:\n",
        "As seen in class, we need to initialize the MLP weights with random values close to zero. Therefore, in this project, we initialize the numpy random number generator (np.random.seed(1)) with a fixed seed, so that your results will be the same as the expected results."
      ],
      "metadata": {
        "id": "loAR-kK6zFw-"
      }
    },
    {
      "cell_type": "code",
      "source": [
        "import numpy as np\n",
        "import matplotlib.pyplot as plt\n",
        "import h5py\n",
        "import scipy\n",
        "from PIL import Image\n",
        "\n",
        "%matplotlib inline\n",
        "\n",
        "np.random.seed(1)"
      ],
      "metadata": {
        "id": "AVLFnDvM67UD"
      },
      "execution_count": null,
      "outputs": []
    },
    {
      "cell_type": "markdown",
      "source": [
        "### **Part 1: Load and preprocess the dataset**\n",
        "\n",
        "#### **1.1 Download the dataset**\n",
        "\n",
        "The dataset for this project contains:\n",
        "  - Training: $n_{tr}$ images labeled as Cat ($y=1$) or Not-cat ($y=0$)\n",
        "  - Test: $n_{te}$ images labeled as Cat ($y=1$) or Not-cat ($y=0$)\n",
        "  \n",
        "All images are square and colored. Therefore, they are represented by numpy arrays in the form `(num_px, num_px, 3)`, where `num_px` is the width and height of the image, and 3 refers to the color channels (RGB)."
      ],
      "metadata": {
        "id": "G_bnGdtEedNN"
      }
    },
    {
      "cell_type": "code",
      "source": [
        "!wget -O 'train_catvnoncat.h5' 'https://raw.githubusercontent.com/JhonataMiranda/CCF482/main/train_catvnoncat.h5'\n",
        "!wget -O 'test_catvnoncat.h5' 'https://raw.githubusercontent.com/JhonataMiranda/CCF482/main/test_catvnoncat.h5'\n",
        "\n",
        "train_dataset = h5py.File('train_catvnoncat.h5', \"r\")\n",
        "train_set_x_orig = np.array(train_dataset[\"train_set_x\"][:]) # training set images\n",
        "train_set_y_orig = np.array(train_dataset[\"train_set_y\"][:]) # training set image labels\n",
        "\n",
        "test_dataset = h5py.File('test_catvnoncat.h5', \"r\")\n",
        "test_set_x_orig = np.array(test_dataset[\"test_set_x\"][:]) # testing set images\n",
        "test_set_y_orig = np.array(test_dataset[\"test_set_y\"][:]) # testing set image labels\n",
        "\n",
        "classes = np.array(test_dataset[\"list_classes\"][:]) # list of classes\n",
        "\n",
        "train_set_y = train_set_y_orig.reshape((1, train_set_y_orig.shape[0]))\n",
        "test_set_y = test_set_y_orig.reshape((1, test_set_y_orig.shape[0]))"
      ],
      "metadata": {
        "id": "0kHPWJZ5eiAZ",
        "colab": {
          "base_uri": "https://localhost:8080/"
        },
        "outputId": "c56dd477-b349-430f-d144-6b343c03a39f"
      },
      "execution_count": null,
      "outputs": [
        {
          "output_type": "stream",
          "name": "stdout",
          "text": [
            "--2025-04-02 11:21:13--  https://raw.githubusercontent.com/JhonataMiranda/CCF482/main/train_catvnoncat.h5\n",
            "Resolving raw.githubusercontent.com (raw.githubusercontent.com)... 185.199.108.133, 185.199.109.133, 185.199.111.133, ...\n",
            "Connecting to raw.githubusercontent.com (raw.githubusercontent.com)|185.199.108.133|:443... connected.\n",
            "HTTP request sent, awaiting response... 200 OK\n",
            "Length: 2572022 (2.5M) [application/octet-stream]\n",
            "Saving to: ‘train_catvnoncat.h5’\n",
            "\n",
            "train_catvnoncat.h5 100%[===================>]   2.45M  --.-KB/s    in 0.05s   \n",
            "\n",
            "2025-04-02 11:21:13 (51.1 MB/s) - ‘train_catvnoncat.h5’ saved [2572022/2572022]\n",
            "\n",
            "--2025-04-02 11:21:14--  https://raw.githubusercontent.com/JhonataMiranda/CCF482/main/test_catvnoncat.h5\n",
            "Resolving raw.githubusercontent.com (raw.githubusercontent.com)... 185.199.108.133, 185.199.109.133, 185.199.110.133, ...\n",
            "Connecting to raw.githubusercontent.com (raw.githubusercontent.com)|185.199.108.133|:443... connected.\n",
            "HTTP request sent, awaiting response... 200 OK\n",
            "Length: 616958 (602K) [application/octet-stream]\n",
            "Saving to: ‘test_catvnoncat.h5’\n",
            "\n",
            "test_catvnoncat.h5  100%[===================>] 602.50K  --.-KB/s    in 0.03s   \n",
            "\n",
            "2025-04-02 11:21:14 (18.6 MB/s) - ‘test_catvnoncat.h5’ saved [616958/616958]\n",
            "\n"
          ]
        }
      ]
    },
    {
      "cell_type": "markdown",
      "source": [
        "#### **1.2 Visualization of dataset examples**\n",
        "\n",
        "Each row of `train_set_x_orig` and `test_set_x_orig` is a numpy array representing an image. You can visualize an example by executing the following code. Feel free to change the value of the `index` variable and run again to see other images."
      ],
      "metadata": {
        "id": "RJgKPBK6fDQ2"
      }
    },
    {
      "cell_type": "code",
      "source": [
        "# Plotting an image from the training set\n",
        "index = 25\n",
        "plt.imshow(train_set_x_orig[index])\n",
        "print (\"y = \" + str(train_set_y[0, index]) + \", it's a '\" + classes[np.squeeze(train_set_y[:, index])].decode(\"utf-8\") +  \"' picture.\")"
      ],
      "metadata": {
        "id": "uOlFLknufDte",
        "colab": {
          "base_uri": "https://localhost:8080/",
          "height": 449
        },
        "outputId": "1bf4b264-5ab4-4571-df0a-3b6f5d8a5d44"
      },
      "execution_count": null,
      "outputs": [
        {
          "output_type": "stream",
          "name": "stdout",
          "text": [
            "y = 1, it's a 'cat' picture.\n"
          ]
        },
        {
          "output_type": "display_data",
          "data": {
            "text/plain": [
              "<Figure size 640x480 with 1 Axes>"
            ],
            "image/png": "[encoded data removed]"
          },
          "metadata": {}
        }
      ]
    },
    {
      "cell_type": "markdown",
      "source": [
        "#### **1.3 Data pre-processing**\n",
        "\n",
        "Just like in the previous project, we also need to process the data in this project. Since the dataset is exactly the same, the following cell performs the data pre-processing exactly as in the previous project."
      ],
      "metadata": {
        "id": "1NCtU4Hrgag5"
      }
    },
    {
      "cell_type": "code",
      "source": [
        "# Get number of train examples, test examples and image size\n",
        "m_train = train_set_x_orig.shape[0]\n",
        "m_test = test_set_x_orig.shape[0]\n",
        "num_px = train_set_x_orig.shape[1]\n",
        "\n",
        "# Reshape the training and test examples\n",
        "train_set_x_flatten = train_set_x_orig.reshape(train_set_x_orig.shape[0], -1).T\n",
        "test_set_x_flatten = test_set_x_orig.reshape(test_set_x_orig.shape[0], -1).T\n",
        "\n",
        "# Standardize data to have feature values between 0 and 1.\n",
        "train_set_x = train_set_x_flatten/255\n",
        "test_set_x = test_set_x_flatten/255\n",
        "\n",
        "print (\"train_set_x shape: \" + str(train_set_x.shape))\n",
        "print (\"test_set_x shape: \" + str(test_set_x.shape))\n",
        "print (\"train_y shape: \" + str(train_set_y.shape))\n",
        "print (\"test_y shape: \" + str(test_set_y.shape))\n",
        "print (\"Number of training examples: \" + str(m_train))\n",
        "print (\"Number of testing examples: \" + str(m_test))\n",
        "print (\"Each image is of size: (\" + str(num_px) + \", \" + str(num_px) + \", 3)\")"
      ],
      "metadata": {
        "id": "OxOYVzsHgZLQ",
        "colab": {
          "base_uri": "https://localhost:8080/"
        },
        "outputId": "d608531f-79af-42a6-c0bb-8ca8d155a243"
      },
      "execution_count": null,
      "outputs": [
        {
          "output_type": "stream",
          "name": "stdout",
          "text": [
            "train_set_x shape: (12288, 209)\n",
            "test_set_x shape: (12288, 50)\n",
            "train_y shape: (1, 209)\n",
            "test_y shape: (1, 50)\n",
            "Number of training examples: 209\n",
            "Number of testing examples: 50\n",
            "Each image is of size: (64, 64, 3)\n"
          ]
        }
      ]
    },
    {
      "cell_type": "markdown",
      "source": [
        "### **Part 2: Define the model**\n",
        "\n",
        "In this project, we will use the MLP for the classification of cat images. Remember that the MLP organizes neurons in a layered structure. The general formulation of the MLP allows both the number of layers L and the number of neurons $m^{[l]}$ per layer $1 \\leq l \\leq L$ to be configurable according to the complexity of the learning problem. Additionally, the activation functions of the MLP neurons don't necessarily need to be the sigmoid function. We can choose the activation function for each layer of the network. Remember that this general formulation of the MLP has the following hypothesis:\n",
        "\n",
        "$$\n",
        "\\begin{align}\n",
        "Z^{[l]} &= W^{[l]} A^{[l-1]} + \\mathbf{b}^{[l]} \\\\\n",
        "\\mathbf{A}^{[l]} &= g^{[l]}(Z^{[l]}) \\\\\n",
        "\\end{align} $$, where:\n",
        "\n",
        "- $W^{[l]}$ is the weight matrix of layer $l$ with dimensions $({m^{[l]}, m^{[l-1]}}$);\n",
        "- $\\mathbf{b}^{[l]}$ is the bias vector of layer $l$ with dimensions $(m^{[l]}, 1)$;\n",
        "- $A^{[L]}$ is the activation matrix of layer $l$ with dimensions $(m^{[l]}, n)$;\n",
        "- $g^{[l]}$ is the activation function of layer $l$.\n",
        "\n",
        "According to this definition, we will have the following dimensions for a network with L layers (Remember that $A^{[0]} = X$ and $A^{[L]} = \\hat{Y}$):\n",
        "\n",
        "<table style=\"width:100%\">\n",
        "    <tr>\n",
        "        <td>  </td>\n",
        "        <td> **  Dimensions of $W^{[l]}$  ** </td>\n",
        "        <td> **  Dimensions of $b^{[l]}$  **  </td>\n",
        "        <td> **  Dimensions of $A^{[l]}$  ** </td>\n",
        "    <tr>\n",
        "    <tr>\n",
        "        <td> ** Layer [1] ** </td>\n",
        "        <td> $(m^{[1]}, 12288)$ </td>\n",
        "        <td> $(m^{[1]}, 1)$ </td>\n",
        "        <td> $(m^{[1]}, 209)$ </td>\n",
        "    <tr>\n",
        "    <tr>\n",
        "        <td> ** Layer [2] ** </td>\n",
        "        <td> $(m^{[2]}, m^{[1]})$  </td>\n",
        "        <td> $(m^{[2]}, 1)$ </td>\n",
        "        <td> $(m^{[2]}, 209)$ </td>\n",
        "    <tr>\n",
        "       <tr>\n",
        "        <td> $\\vdots$ </td>\n",
        "        <td> $\\vdots$  </td>\n",
        "        <td> $\\vdots$  </td>\n",
        "        <td> $\\vdots$  </td>\n",
        "    <tr>\n",
        "   <tr>\n",
        "        <td> ** Layer [L-1] ** </td>\n",
        "        <td> $(m^{[L-1]}, m^{[L-2]})$ </td>\n",
        "        <td> $(m^{[L-1]}, 1)$  </td>\n",
        "        <td> $(m^{[L-1]}, 209)$ </td>\n",
        "    <tr>\n",
        "   <tr>\n",
        "        <td> ** Layer [L] ** </td>\n",
        "        <td> $(m^{[L]}, m^{[L-1]})$ </td>\n",
        "        <td> $(m^{[L]}, 1)$ </td>\n",
        "        <td> $(m^{[L]}, 209)$  </td>\n",
        "    <tr>\n",
        "</table>"
      ],
      "metadata": {
        "id": "TuyWSfsFjekr"
      }
    },
    {
      "cell_type": "markdown",
      "source": [
        "\n",
        "#### **2.1 Activation Functions**\n",
        "\n",
        "#### **2.1.1 Sigmoid**\n",
        "\n",
        "The learning problem in this project is the same as in the previous project: binary classification. Therefore, we will use the sigmoid activation function in the output layer and the Binary Cross-Entropy loss function. Since the Sigmoid function was already implemented in the previous project, the following cell already contains the implementation of this function. However, in addition to the activation, the function also returns the value of Z, which we call \"cache,\" as we will use this value during the gradient calculation during backpropagation."
      ],
      "metadata": {
        "id": "WhQ6Acqq1cYf"
      }
    },
    {
      "cell_type": "code",
      "source": [
        "def sigmoid(Z):\n",
        "    \"\"\"\n",
        "    Implements the sigmoid activation in numpy\n",
        "\n",
        "    Arguments:\n",
        "    Z -- numpy array of any shape\n",
        "\n",
        "    Returns:\n",
        "    A -- output of sigmoid(z), same shape as Z\n",
        "    cache -- returns Z as well, useful during backpropagation\n",
        "    \"\"\"\n",
        "\n",
        "    A = 1/(1+np.exp(-Z))\n",
        "    cache = Z\n",
        "\n",
        "    return A, cache"
      ],
      "metadata": {
        "id": "-Nt978ox8Wm8"
      },
      "execution_count": null,
      "outputs": []
    },
    {
      "cell_type": "markdown",
      "source": [
        "#### **2.1.2 Relu**\n",
        "\n",
        "As seen in class, ReLU is currently one of the most popular choices for the activation function of neurons in hidden layers. In this project, we will also use this function in these layers.\n",
        "\n",
        "Implement the ReLU activation function. Note that, just like with the sigmoid, the function returns both the activation and the value of Z. Remember that ReLU is defined by $relu(z) = max(0, z)$. In numpy, the max function is implemented by `np.maximum`."
      ],
      "metadata": {
        "id": "UeC0Aoj08sWn"
      }
    },
    {
      "cell_type": "code",
      "source": [
        "def relu(Z):\n",
        "    \"\"\"\n",
        "    Implement the RELU function.\n",
        "\n",
        "    Arguments:\n",
        "    Z -- Output of the linear layer, of any shape\n",
        "\n",
        "    Returns:\n",
        "    A -- Post-activation parameter, of the same shape as Z\n",
        "    cache -- a python dictionary containing \"A\" ; stored for computing the backward pass efficiently\n",
        "    \"\"\"\n",
        "    ### YOUR CODE STARTS HERE ### ≈1 line\n",
        "\n",
        "    ### YOUR CODE ENDS HERE ###\n",
        "    assert(A.shape == Z.shape)\n",
        "\n",
        "    cache = Z\n",
        "    return A, cache"
      ],
      "metadata": {
        "id": "EIv00d9_8XlL"
      },
      "execution_count": null,
      "outputs": []
    },
    {
      "cell_type": "code",
      "source": [
        "Z = np.array([[-2.0 , 7.0]])\n",
        "A, cache = relu(Z)\n",
        "\n",
        "print(\"Activation: \", A)\n",
        "print(\"Cache: \", cache)"
      ],
      "metadata": {
        "id": "dFFKNd6eNf5I",
        "colab": {
          "base_uri": "https://localhost:8080/",
          "height": 332
        },
        "outputId": "72eec873-306b-4157-c227-f6947c0d83d2"
      },
      "execution_count": null,
      "outputs": [
        {
          "output_type": "error",
          "ename": "NameError",
          "evalue": "name 'A' is not defined",
          "traceback": [
            "\u001b[0;31m---------------------------------------------------------------------------\u001b[0m",
            "\u001b[0;31mNameError\u001b[0m                                 Traceback (most recent call last)",
            "\u001b[0;32m<ipython-input-7-547720d0ab97>\u001b[0m in \u001b[0;36m<cell line: 0>\u001b[0;34m()\u001b[0m\n\u001b[1;32m      1\u001b[0m \u001b[0mZ\u001b[0m \u001b[0;34m=\u001b[0m \u001b[0mnp\u001b[0m\u001b[0;34m.\u001b[0m\u001b[0marray\u001b[0m\u001b[0;34m(\u001b[0m\u001b[0;34m[\u001b[0m\u001b[0;34m[\u001b[0m\u001b[0;34m-\u001b[0m\u001b[0;36m2.0\u001b[0m \u001b[0;34m,\u001b[0m \u001b[0;36m7.0\u001b[0m\u001b[0;34m]\u001b[0m\u001b[0;34m]\u001b[0m\u001b[0;34m)\u001b[0m\u001b[0;34m\u001b[0m\u001b[0;34m\u001b[0m\u001b[0m\n\u001b[0;32m----> 2\u001b[0;31m \u001b[0mA\u001b[0m\u001b[0;34m,\u001b[0m \u001b[0mcache\u001b[0m \u001b[0;34m=\u001b[0m \u001b[0mrelu\u001b[0m\u001b[0;34m(\u001b[0m\u001b[0mZ\u001b[0m\u001b[0;34m)\u001b[0m\u001b[0;34m\u001b[0m\u001b[0;34m\u001b[0m\u001b[0m\n\u001b[0m\u001b[1;32m      3\u001b[0m \u001b[0;34m\u001b[0m\u001b[0m\n\u001b[1;32m      4\u001b[0m \u001b[0mprint\u001b[0m\u001b[0;34m(\u001b[0m\u001b[0;34m\"Activation: \"\u001b[0m\u001b[0;34m,\u001b[0m \u001b[0mA\u001b[0m\u001b[0;34m)\u001b[0m\u001b[0;34m\u001b[0m\u001b[0;34m\u001b[0m\u001b[0m\n\u001b[1;32m      5\u001b[0m \u001b[0mprint\u001b[0m\u001b[0;34m(\u001b[0m\u001b[0;34m\"Cache: \"\u001b[0m\u001b[0;34m,\u001b[0m \u001b[0mcache\u001b[0m\u001b[0;34m)\u001b[0m\u001b[0;34m\u001b[0m\u001b[0;34m\u001b[0m\u001b[0m\n",
            "\u001b[0;32m<ipython-input-6-208de47270bc>\u001b[0m in \u001b[0;36mrelu\u001b[0;34m(Z)\u001b[0m\n\u001b[1;32m     13\u001b[0m \u001b[0;34m\u001b[0m\u001b[0m\n\u001b[1;32m     14\u001b[0m     \u001b[0;31m### YOUR CODE ENDS HERE ###\u001b[0m\u001b[0;34m\u001b[0m\u001b[0;34m\u001b[0m\u001b[0m\n\u001b[0;32m---> 15\u001b[0;31m     \u001b[0;32massert\u001b[0m\u001b[0;34m(\u001b[0m\u001b[0mA\u001b[0m\u001b[0;34m.\u001b[0m\u001b[0mshape\u001b[0m \u001b[0;34m==\u001b[0m \u001b[0mZ\u001b[0m\u001b[0;34m.\u001b[0m\u001b[0mshape\u001b[0m\u001b[0;34m)\u001b[0m\u001b[0;34m\u001b[0m\u001b[0;34m\u001b[0m\u001b[0m\n\u001b[0m\u001b[1;32m     16\u001b[0m \u001b[0;34m\u001b[0m\u001b[0m\n\u001b[1;32m     17\u001b[0m     \u001b[0mcache\u001b[0m \u001b[0;34m=\u001b[0m \u001b[0mZ\u001b[0m\u001b[0;34m\u001b[0m\u001b[0;34m\u001b[0m\u001b[0m\n",
            "\u001b[0;31mNameError\u001b[0m: name 'A' is not defined"
          ]
        }
      ]
    },
    {
      "cell_type": "markdown",
      "source": [
        "**Expected result:**\n",
        "<table style=\"width:50%\">\n",
        "  <tr>\n",
        "    <td> **Activation** </td>\n",
        "    <td > [[ 0.  7.]]</td>\n",
        "  </tr>\n",
        "  <tr>\n",
        "    <td> **Cache ** </td>\n",
        "    <td > [[ -2.  7.]] </td>\n",
        "  </tr>\n",
        "</table>"
      ],
      "metadata": {
        "id": "sl-VrLQaOCSk"
      }
    },
    {
      "cell_type": "markdown",
      "metadata": {
        "id": "6badpbTcmhQL"
      },
      "source": [
        "### **2.2 - Multilayer Perceptron**\n",
        "Implement the forward propagation of an MLP with L layers. To do this, implement two auxiliary functions: `linear_forward` and `linear_activation_forward`. The first calculates the linear part $Z^{[l]}$ and the second calculates the activation $g^{[l]}(Z^{[l]})$ of layer $l$. This will facilitate the implementation of backpropagation in the next steps."
      ]
    },
    {
      "cell_type": "markdown",
      "source": [
        "#### **2.1 Linear Combination of Layer $l$**\n",
        "\n",
        "Implement the linear combination $Z^{[l]}$ between the weights and inputs of a layer $l$ of the MLP. Remember that this combination is given by the equation $Z^{[l]} = W^{[l]} A^{[l-1]} + \\mathbf{b}^{[l]}$."
      ],
      "metadata": {
        "id": "Bx-za7R2CD7V"
      }
    },
    {
      "cell_type": "code",
      "execution_count": null,
      "metadata": {
        "id": "d9WDI8eZmhQL"
      },
      "outputs": [],
      "source": [
        "def linear_forward(A, W, b):\n",
        "    \"\"\"\n",
        "    Implement the linear part of a layer's forward propagation.\n",
        "\n",
        "    Arguments:\n",
        "    A -- activations from previous layer (or input data): (size of previous layer, number of examples)\n",
        "    W -- weights matrix: numpy array of shape (size of current layer, size of previous layer)\n",
        "    b -- bias vector, numpy array of shape (size of the current layer, 1)\n",
        "\n",
        "    Returns:\n",
        "    Z -- the input of the activation function, also called pre-activation parameter\n",
        "    cache -- a python dictionary containing \"A\", \"W\" and \"b\" ; stored for computing the backward pass efficiently\n",
        "    \"\"\"\n",
        "\n",
        "    ### YOUR CODE STARTS HERE ### ≈1 line\n",
        "\n",
        "    ### YOUR CODE ENDS HERE ###\n",
        "\n",
        "    assert(Z.shape == (W.shape[0], A.shape[1]))\n",
        "    cache = (A, W, b)\n",
        "\n",
        "    return Z, cache"
      ]
    },
    {
      "cell_type": "code",
      "source": [
        "np.random.seed(1)\n",
        "\n",
        "A = np.random.randn(3,2); W = np.random.randn(1,3); b = np.random.randn(1,1)\n",
        "Z, linear_cache = linear_forward(A, W, b)\n",
        "print(\"Z = \" + str(Z))"
      ],
      "metadata": {
        "id": "wmZvqYwyOYxf"
      },
      "execution_count": null,
      "outputs": []
    },
    {
      "cell_type": "markdown",
      "source": [
        "**Expected result:**\n",
        "\n",
        "<table style=\"width:35%\">\n",
        "  \n",
        "  <tr>\n",
        "    <td> **Z** </td>\n",
        "    <td> [[ 3.26295337 -1.23429987]] </td>\n",
        "  </tr>\n",
        "  \n",
        "</table>"
      ],
      "metadata": {
        "id": "bo5zr_QgOZam"
      }
    },
    {
      "cell_type": "markdown",
      "source": [
        "#### **2.2 Activation of Layer $l$**\n",
        "\n",
        "Implement the activation $g^{[l]}(Z^{[l]})$ of layer $l$ of the MLP. Although the ReLU activation function in hidden layers makes the learning process faster than the sigmoid, we will also support the use of sigmoid in these layers, so we can conduct experiments with different activations. Remember that this combination is given by the equation $g^{[l]}(Z^{[l]})$,\n",
        "where $Z^{[l]}$ is calculated by the `linear_forward` function implemented in the previous step and $g^{[l]}$ can be either `sigmoid` or `relu`, depending\n",
        "on the `activation` parameter (string)."
      ],
      "metadata": {
        "id": "dmNKH6pPC774"
      }
    },
    {
      "cell_type": "code",
      "execution_count": null,
      "metadata": {
        "id": "MR5jUje2mhQM"
      },
      "outputs": [],
      "source": [
        "def linear_activation_forward(A_prev, W, b, activation):\n",
        "    \"\"\"\n",
        "    Implement the forward propagation for the LINEAR->ACTIVATION layer\n",
        "\n",
        "    Arguments:\n",
        "    A_prev -- activations from previous layer (or input data): (size of previous layer, number of examples)\n",
        "    W -- weights matrix: numpy array of shape (size of current layer, size of previous layer)\n",
        "    b -- bias vector, numpy array of shape (size of the current layer, 1)\n",
        "    activation -- the activation to be used in this layer, stored as a text string: \"sigmoid\" or \"relu\"\n",
        "\n",
        "    Returns:\n",
        "    A -- the output of the activation function, also called the post-activation value\n",
        "    cache -- a python dictionary containing \"linear_cache\" and \"activation_cache\";\n",
        "             stored for computing the backward pass efficiently\n",
        "    \"\"\"\n",
        "\n",
        "    if activation == \"sigmoid\":\n",
        "        # Inputs: \"A_prev, W, b\". Outputs: \"A, activation_cache\".\n",
        "        ### YOUR CODE STARTS HERE ### ~2 lines\n",
        "\n",
        "        ### YOUR CODE ENDS HERE ###\n",
        "\n",
        "\n",
        "    elif activation == \"relu\":\n",
        "        # Inputs: \"A_prev, W, b\". Outputs: \"A, activation_cache\".\n",
        "        ### YOUR CODE STARTS HERE ### ~2 lines\n",
        "\n",
        "        ### YOUR CODE ENDS HERE ###\n",
        "\n",
        "    assert (A.shape == (W.shape[0], A_prev.shape[1]))\n",
        "    cache = (linear_cache, activation_cache)\n",
        "\n",
        "    return A, cache"
      ]
    },
    {
      "cell_type": "code",
      "source": [
        "np.random.seed(2)\n",
        "A_prev = np.random.randn(3,2); W = np.random.randn(1,3); b = np.random.randn(1,1)\n",
        "\n",
        "A, linear_activation_cache = linear_activation_forward(A_prev, W, b, activation = \"sigmoid\")\n",
        "print(\"Activation (sigmoid) = \" + str(A))\n",
        "\n",
        "A, linear_activation_cache = linear_activation_forward(A_prev, W, b, activation = \"relu\")\n",
        "print(\"Activation (relu) = \" + str(A))"
      ],
      "metadata": {
        "id": "aoOs7R4LO--K"
      },
      "execution_count": null,
      "outputs": []
    },
    {
      "cell_type": "markdown",
      "source": [
        "**Expected result:**       \n",
        "<table style=\"width:35%\">\n",
        "  <tr>\n",
        "    <td> **Activation (sigmoid) ** </td>\n",
        "    <td > [[ 0.96890023  0.11013289]]</td>\n",
        "  </tr>\n",
        "  <tr>\n",
        "    <td> **Activation (relu) ** </td>\n",
        "    <td > [[ 3.43896131  0.        ]]</td>\n",
        "  </tr>\n",
        "</table>\n"
      ],
      "metadata": {
        "id": "CexcNOWJPUv-"
      }
    },
    {
      "cell_type": "markdown",
      "metadata": {
        "id": "BJrwrlewmhQM"
      },
      "source": [
        "### **2.3 Forward Propagation (Forward Pass)**\n",
        "\n",
        "The `linear_activation_forward` function calculates the activation of a single layer $l$. Use this function to implement the `forward_pass` function, which performs propagation of the inputs $X$ through all layers of the network. Schematically, the architecture of the MLP with L layers can be seen as follows:\n",
        "\n",
        "$X$ $→$ (Linear | ReLU) $\\times$ [L-1] $→$ (Linear | Sigmoid) $→$ $\\hat{Y}$\n",
        "\n",
        "First, calculate the activation $A^{[l]}$ for the [L-1] hidden layers (Linear $→$ ReLU) and then calculate the activation $A^{[L]} = \\hat{Y}$ of the output layer. To calculate the activation of a layer $l$ with the `linear_activation_forward` function, you need the weights $W^{[l]}$ and $\\mathbf{b}^{[l]}$ of that layer. The `parameters` variable of the `forward_pass` function stores the weights of all layers in a dictionary. To access the weights of a given layer $l$, simply create a string key with the parameter name and the layer number. For example, `parameters['W1']` and `parameters['b1']` contain the parameters $W^{[1]}$ and $\\mathbf{b}^{[1]}$ of layer 1, respectively.\n",
        "\n",
        "Remember that, in addition to the activation $A^{[l]}$, the `linear_activation_forward` function returns the value of $Z^{[l]}$ in a cache. As we will need these values during backprop, store (`cache.append()`) the outputs of each layer in the `caches` list."
      ]
    },
    {
      "cell_type": "code",
      "execution_count": null,
      "metadata": {
        "id": "x0nWcsPcmhQM"
      },
      "outputs": [],
      "source": [
        "def forward_pass(X, parameters):\n",
        "    \"\"\"\n",
        "    Implement forward propagation for the [LINEAR->RELU]*(L-1)->LINEAR->SIGMOID computation\n",
        "\n",
        "    Arguments:\n",
        "    X -- data, numpy array of shape (input size, number of examples)\n",
        "    parameters -- output of initialize_parameters_deep()\n",
        "\n",
        "    Returns:\n",
        "    Y_hat -- last post-activation value\n",
        "    caches -- list of caches containing:\n",
        "                every cache of linear_relu_forward() (there are L-1 of them, indexed from 0 to L-2)\n",
        "                the cache of linear_sigmoid_forward() (there is one, indexed L-1)\n",
        "    \"\"\"\n",
        "\n",
        "    caches = []\n",
        "    A = X\n",
        "    L = len(parameters) // 2 # number of layers in the neural network\n",
        "\n",
        "    # Implement [LINEAR -> RELU]*(L-1). Add \"cache\" to the \"caches\" list.\n",
        "    for l in range(1, L):\n",
        "        A_prev = A\n",
        "        ### YOUR CODE STARTS HERE ### ~2 lines\n",
        "\n",
        "        ### YOUR CODE ENDS HERE ###\n",
        "\n",
        "    # Implement LINEAR -> SIGMOID. Add \"cache\" to the \"caches\" list.\n",
        "    ### YOUR CODE STARTS HERE ### ~2 lines\n",
        "\n",
        "    ### YOUR CODE ENDS HERE ###\n",
        "\n",
        "    assert(Y_hat.shape == (1,X.shape[1]))\n",
        "\n",
        "    return Y_hat, caches"
      ]
    },
    {
      "cell_type": "code",
      "source": [
        "np.random.seed(6)\n",
        "X = np.random.randn(5,4)\n",
        "W1 = np.random.randn(4,5); b1 = np.random.randn(4,1)\n",
        "W2 = np.random.randn(3,4); b2 = np.random.randn(3,1)\n",
        "W3 = np.random.randn(1,3); b3 = np.random.randn(1,1)\n",
        "parameters = {\"W1\": W1, \"b1\": b1, \"W2\": W2, \"b2\": b2, \"W3\": W3, \"b3\": b3}\n",
        "\n",
        "Y_hat, caches = forward_pass(X, parameters)\n",
        "print(\"Y_hat = \" + str(Y_hat))\n",
        "print(\"Cache length = \" + str(len(caches)))"
      ],
      "metadata": {
        "id": "knW56iT9j7FD"
      },
      "execution_count": null,
      "outputs": []
    },
    {
      "cell_type": "markdown",
      "source": [
        "**Expected result:**       \n",
        "\n",
        "<table style=\"width:50%\">\n",
        "  <tr>\n",
        "    <td> **Y_hat** </td>\n",
        "    <td > [[ 0.03921668  0.70498921  0.19734387  0.04728177]]</td>\n",
        "  </tr>\n",
        "  <tr>\n",
        "    <td> **Cache length ** </td>\n",
        "    <td > 3 </td>\n",
        "  </tr>\n",
        "</table>"
      ],
      "metadata": {
        "id": "cGiQ_aYGkZ8e"
      }
    },
    {
      "cell_type": "markdown",
      "source": [
        "### **Part 3: Initialize weights**\n",
        "\n",
        "Unlike logistic regression, in MLP we cannot initialize the weights $W^{[l]}$ of a layer $l$ with zeros, as this would make the neurons in the same layer identical. In MLP, weights are initialized with random values close to zero.\n",
        "\n",
        "In class, we saw a simple solution that was to generate a random matrix with values between 0 and 1 and multiply it by a small constant (e.g., 0.01). However, a better solution is to generate a random matrix with values between 0 and 1 and divide it by the square root of the number of inputs $m[^{[l-1]}]$ of layer $l$. This helps ensure that the output of a neuron is not dominated by a small number of inputs, which could lead to overfitting. When a neuron receives a large number of inputs, the output can be highly variable. This occurs because some inputs may have a much greater impact on the results than others. For example, if a neuron receives 100 inputs and one of them is 10 times larger than the other 99, then that input will dominate the output. To avoid this problem, the weights of the inputs are divided by the square root of the number of inputs.\n",
        "\n",
        "Implement the following function to initialize the MLP weights using this technique. To generate a random matrix with values between 0 and 1, use the function `np.random.randn(m_l, m_{l-1})`. To calculate the square root of the number of inputs of a layer, use the function `np.sqrt(m_{l-1})`. The weights $b^{[l]}$ can be initialized with zero. For this, use the function `np.zeros((m_l, 1))`. Note that this function receives as a parameter a list `layer_dims` where an element with index $l$ contains the number of neurons in layer $l$."
      ],
      "metadata": {
        "id": "FmqVtM8kGUjs"
      }
    },
    {
      "cell_type": "code",
      "execution_count": null,
      "metadata": {
        "id": "pe_I6GFUmhQL"
      },
      "outputs": [],
      "source": [
        "def initialize_parameters(layer_dims):\n",
        "    \"\"\"\n",
        "    Arguments:\n",
        "    layer_dims -- python array (list) containing the dimensions of each layer in our network\n",
        "\n",
        "    Returns:\n",
        "    parameters -- python dictionary containing your parameters \"W1\", \"b1\", ..., \"WL\", \"bL\":\n",
        "                    Wl -- weight matrix of shape (layer_dims[l], layer_dims[l-1])\n",
        "                    bl -- bias vector of shape (layer_dims[l], 1)\n",
        "    \"\"\"\n",
        "\n",
        "    np.random.seed(1)\n",
        "    parameters = {}\n",
        "    L = len(layer_dims) # number of layers in the network\n",
        "\n",
        "    for l in range(1, L):\n",
        "        ### YOUR CODE STARTS HERE ### ~2 lines\n",
        "\n",
        "        ### YOUR CODE ENDS HERE ###\n",
        "\n",
        "        assert(parameters['W' + str(l)].shape == (layer_dims[l], layer_dims[l-1]))\n",
        "        assert(parameters['b' + str(l)].shape == (layer_dims[l], 1))\n",
        "\n",
        "    return parameters"
      ]
    },
    {
      "cell_type": "code",
      "execution_count": null,
      "metadata": {
        "id": "p_VzRJIsmhQL"
      },
      "outputs": [],
      "source": [
        "parameters = initialize_parameters([5,4,3])\n",
        "print(\"W1 = \" + str(parameters[\"W1\"]))\n",
        "print(\"b1 = \" + str(parameters[\"b1\"]))\n",
        "print(\"W2 = \" + str(parameters[\"W2\"]))\n",
        "print(\"b2 = \" + str(parameters[\"b2\"]))"
      ]
    },
    {
      "cell_type": "markdown",
      "metadata": {
        "id": "9rI2TWJcmhQL"
      },
      "source": [
        "**Expected result:**       \n",
        "       \n",
        "<table style=\"width:80%\">\n",
        "  <tr>\n",
        "    <td> **W1** </td>\n",
        "    <td>[[ 0.72642933 -0.27358579 -0.23620559 -0.47984616  0.38702206]\n",
        " [-1.0292794   0.78030354 -0.34042208  0.14267862 -0.11152182]\n",
        " [ 0.65387455 -0.92132293 -0.14418936 -0.17175433  0.50703711]\n",
        " [-0.49188633 -0.07711224 -0.39259022  0.01887856  0.26064289]]</td>\n",
        "  </tr>\n",
        "  \n",
        "  <tr>\n",
        "    <td>**b1** </td>\n",
        "    <td>[[ 0.]\n",
        " [ 0.]\n",
        " [ 0.]\n",
        " [ 0.]]</td>\n",
        "  </tr>\n",
        "  \n",
        "  <tr>\n",
        "    <td>**W2** </td>\n",
        "    <td>[[-0.55030959  0.57236185  0.45079536  0.25124717]\n",
        " [ 0.45042797 -0.34186393 -0.06144511 -0.46788472]\n",
        " [-0.13394404  0.26517773 -0.34583038 -0.19837676]]</td>\n",
        "  </tr>\n",
        "  \n",
        "  <tr>\n",
        "    <td>**b2** </td>\n",
        "    <td>[[ 0.]\n",
        " [ 0.]\n",
        " [ 0.]]</td>\n",
        "  </tr>\n",
        "  \n",
        "</table>"
      ]
    },
    {
      "cell_type": "markdown",
      "metadata": {
        "id": "FD2zeC3bmhQN"
      },
      "source": [
        "### **Part 4: Define loss function**\n",
        "\n",
        "As we have a binary classification problem, we will use Binary Cross-Entropy as the loss function. In MLP, the optimization problem with this function is no longer convex, but gradient descent still works very well to optimize the network weights. Remember that Binary Cross-Entropy is defined as follows:\n",
        "\n",
        "$$\n",
        "L(h) = -\\frac{1}{m}\\sum_{i=1}^{m}(y_i\\;log\\ \\hat{y_i} + (1 - y_i)\\;log\\;(1 - \\hat{y_i}))\n",
        "$$"
      ]
    },
    {
      "cell_type": "code",
      "execution_count": null,
      "metadata": {
        "id": "IDUmAXH_mhQN"
      },
      "outputs": [],
      "source": [
        "def binary_cross_entropy(Y_hat, Y):\n",
        "    \"\"\"\n",
        "    Implement the cost function defined by equation (7).\n",
        "\n",
        "    Arguments:\n",
        "    Y_hat -- probability vector corresponding to your label predictions, shape (1, number of examples)\n",
        "    Y -- true \"label\" vector (for example: containing 0 if non-cat, 1 if cat), shape (1, number of examples)\n",
        "\n",
        "    Returns:\n",
        "    cost -- cross-entropy cost\n",
        "    \"\"\"\n",
        "\n",
        "    m = Y.shape[1]\n",
        "\n",
        "    # Compute loss from aL and y.\n",
        "    loss = (1./m) * (-np.dot(Y,np.log(Y_hat).T) - np.dot(1-Y, np.log(1-Y_hat).T))\n",
        "\n",
        "    loss = np.squeeze(loss) # To make sure your cost's shape is what we expect (e.g. this turns [[17]] into 17).\n",
        "    assert(loss.shape == ())\n",
        "\n",
        "    return loss"
      ]
    },
    {
      "cell_type": "markdown",
      "metadata": {
        "id": "5JXqLogjmhQN"
      },
      "source": [
        "### **Part 5: Backpropagation**\n",
        "\n",
        "The weights of an MLP are updated with the Backpropagation algorithm.\n",
        "This algorithm efficiently calculates the partial derivatives of the error function with respect to the network weights by applying the chain rule from back to front, starting at the output layer and going back to the input layer. As we saw in class, each node in our computational graph needs to know how to compute it's local gradients, which are the partial derivatives of it's output with respect to it's inputs. In this programming assigment, we have four nodes in our computational graph: `linear(A, w, b)`, `sigmoid(z)`, `relu(z)`, and `binary_cross_entropy(y_hat, y)`. Thus, we need to define the local gradients of these four nodes. Since we already computed the partial derivatives of the binary cross entropy loss for these four nodes in class, we will compute their global gradients directly.\n",
        "\n",
        "First, you will implement the `linear_backward` function to calculate the partial derivatives of the loss function $L$ with respect to the weights ($W^{[l]}$, $b^{[l]}$) and the activation of the previous layer $A^{[l-1]}$. Second, the `sigmoid_backward` and `relu_backward` functions to calculate the derivatives of the activation functions with respect to the inputs Z. Then, you will implement the `linear_activation_backward` function, which combines these functions to calculate the backpropagation for a single layer $l$.\n",
        "Finally, you will implement the `backward_pass` function, which uses\n",
        "the `linear_activation_backward` function to calculate the backpropagation in all layers of the MLP."
      ]
    },
    {
      "cell_type": "markdown",
      "source": [
        "### **5.1 Partial Derivatives of the Linear Combination of Layer $l$**\n",
        "\n",
        "Partial derivatives of the loss function $L$ with respect to the weights ($W^{[l]}$, $b^{[l]}$) of a layer $l$ of the MLP:\n",
        "\n",
        "$$ dW^{[l]} = \\frac{\\partial L}{\\partial W^{[l]}} = \\frac{1}{m} dZ^{[l]} A^{[l-1] T} $$\n",
        "$$ db^{[l]} = \\frac{\\partial L}{\\partial b^{[l]}} = \\frac{1}{m} \\sum_{i = 1}^{m} dZ^{[l](i)} $$\n",
        "$$ dA^{[l-1]} = \\frac{\\partial L}{\\partial A^{[l-1]}} = W^{[l] T} dZ^{[l]} $$"
      ],
      "metadata": {
        "id": "HSorv_L6HRpG"
      }
    },
    {
      "cell_type": "code",
      "execution_count": null,
      "metadata": {
        "id": "_LgcfFKvmhQN"
      },
      "outputs": [],
      "source": [
        "def linear_backward(dZ, cache):\n",
        "    \"\"\"\n",
        "    Implement the linear portion of backward propagation for a single layer (layer l)\n",
        "\n",
        "    Arguments:\n",
        "    dZ -- Gradient of the cost with respect to the linear output (of current layer l)\n",
        "    cache -- tuple of values (A_prev, W, b) coming from the forward propagation in the current layer\n",
        "\n",
        "    Returns:\n",
        "    dA_prev -- Gradient of the cost with respect to the activation (of the previous layer l-1), same shape as A_prev\n",
        "    dW -- Gradient of the cost with respect to W (current layer l), same shape as W\n",
        "    db -- Gradient of the cost with respect to b (current layer l), same shape as b\n",
        "    \"\"\"\n",
        "    A_prev, W, b = cache\n",
        "    m = A_prev.shape[1]\n",
        "\n",
        "    ### YOUR CODE STARTS HERE ### ~3 lines\n",
        "\n",
        "    ### YOUR CODE ENDS HERE ###\n",
        "\n",
        "    assert (dA_prev.shape == A_prev.shape)\n",
        "    assert (dW.shape == W.shape)\n",
        "    assert (db.shape == b.shape)\n",
        "\n",
        "    return dA_prev, dW, db"
      ]
    },
    {
      "cell_type": "code",
      "source": [
        "# Set up some test inputs\n",
        "np.random.seed(1)\n",
        "\n",
        "dZ = np.random.randn(3,4)\n",
        "A = np.random.randn(5,4)\n",
        "W = np.random.randn(3,5)\n",
        "b = np.random.randn(3,1)\n",
        "linear_cache = (A, W, b)\n",
        "\n",
        "dA_prev, dW, db = linear_backward(dZ, linear_cache)\n",
        "print (\"dA_prev = \"+ str(dA_prev))\n",
        "print (\"dW = \" + str(dW))\n",
        "print (\"db = \" + str(db))"
      ],
      "metadata": {
        "id": "svgo3Y29nqwl"
      },
      "execution_count": null,
      "outputs": []
    },
    {
      "cell_type": "markdown",
      "source": [
        "**Expected result:**       \n",
        "       \n",
        "<table style=\"width:80%\">\n",
        "  <tr>\n",
        "    <td> **dA_prev** </td>\n",
        "    <td>[[-1.15171336  0.06718465 -0.3204696   2.09812712]\n",
        " [ 0.60345879 -3.72508701  5.81700741 -3.84326836]\n",
        " [-0.4319552  -1.30987417  1.72354705  0.05070578]\n",
        " [-0.38981415  0.60811244 -1.25938424  1.47191593]\n",
        " [-2.52214926  2.67882552 -0.67947465  1.48119548]]</td>\n",
        "  </tr>\n",
        "  \n",
        "  <tr>\n",
        "    <td>**dW** </td>\n",
        "    <td>[[ 0.07313866 -0.0976715  -0.87585828  0.73763362  0.00785716]\n",
        " [ 0.85508818  0.37530413 -0.59912655  0.71278189 -0.58931808]\n",
        " [ 0.97913304 -0.24376494 -0.08839671  0.55151192 -0.10290907]]</td>\n",
        "  </tr>\n",
        "  \n",
        "  <tr>\n",
        "    <td>**db** </td>\n",
        "    <td>[[-0.14713786]\n",
        " [-0.11313155]\n",
        " [-0.13209101]]</td>\n",
        "  </tr>\n",
        "\n",
        "  \n",
        "</table>"
      ],
      "metadata": {
        "id": "UiYFRAaXSgrd"
      }
    },
    {
      "cell_type": "markdown",
      "source": [
        "### **5.2 Derivatives of activation functions**\n",
        "\n",
        "Derivatives of the sigmoid function with respect to input Z:\n",
        "\n",
        "$$\n",
        "\\frac{\\partial g}{\\partial Z} = \\frac{\\partial L}{\\partial a} \\cdot (g(z) \\cdot (1 - g(z))\n",
        "$$"
      ],
      "metadata": {
        "id": "lewT9kBwIzXe"
      }
    },
    {
      "cell_type": "code",
      "source": [
        "def sigmoid_backward(dA, cache):\n",
        "    \"\"\"\n",
        "    Implement the backward propagation for a single SIGMOID unit.\n",
        "\n",
        "    Arguments:\n",
        "    dA -- post-activation gradient, of any shape\n",
        "    cache -- 'Z' where we store for computing backward propagation efficiently\n",
        "\n",
        "    Returns:\n",
        "    dZ -- Gradient of the cost with respect to Z\n",
        "    \"\"\"\n",
        "\n",
        "    Z = cache\n",
        "\n",
        "    g_z = 1/(1 + np.exp(-Z))\n",
        "    ### YOUR CODE STARTS HERE ### ~1 line\n",
        "\n",
        "    ### YOUR CODE ENDS HERE ###\n",
        "\n",
        "    assert (dZ.shape == Z.shape)\n",
        "\n",
        "    return dZ"
      ],
      "metadata": {
        "id": "jIg1pECRD6g1"
      },
      "execution_count": null,
      "outputs": []
    },
    {
      "cell_type": "code",
      "source": [
        "np.random.seed(1)\n",
        "\n",
        "dA = np.random.randn(3,4)\n",
        "cache = np.random.randn(3,4)\n",
        "\n",
        "dZ = sigmoid_backward(dA, cache)\n",
        "print('dZ: ', dZ)"
      ],
      "metadata": {
        "id": "Wg4D3A51TiGb"
      },
      "execution_count": null,
      "outputs": []
    },
    {
      "cell_type": "markdown",
      "source": [
        "**Expected result:**       \n",
        "       \n",
        "<table style=\"width:80%\">\n",
        "  <tr>\n",
        "    <td> **dZ** </td>\n",
        "    <td>[[ 0.39571307 -0.14743535 -0.09728415 -0.20105294]\n",
        " [ 0.21475173 -0.47735759  0.43600867 -0.17501431]\n",
        " [ 0.05975979 -0.04567319  0.30026189 -0.48384433]]</td>\n",
        "  </tr>\n",
        "  \n",
        "</table>"
      ],
      "metadata": {
        "id": "BIE57ao7ULpd"
      }
    },
    {
      "cell_type": "markdown",
      "source": [
        "Derivative of the ReLU function with respect to input Z:\n",
        "\n",
        "$$\n",
        "\\frac{\\partial g}{\\partial Z} = \\begin{cases}\n",
        "0\\, \\text{if}\\ z < 0 \\\\\n",
        "1\\, \\text{if}\\ z > 0 \\\\\n",
        "\\nexists, \\text{if}\\ z = 0 \\\\\n",
        "\\end{cases}\n",
        "$$\n",
        "\n",
        "Note that, mathematically, the derivative of ReLU is undefined for $Z = 0$. In practice, we will assume that it is equal to zero."
      ],
      "metadata": {
        "id": "MoqsqyaHRB6q"
      }
    },
    {
      "cell_type": "code",
      "source": [
        "def relu_backward(dA, cache):\n",
        "    \"\"\"\n",
        "    Implement the backward propagation for a single RELU unit.\n",
        "\n",
        "    Arguments:\n",
        "    dA -- post-activation gradient, of any shape\n",
        "    cache -- 'Z' where we store for computing backward propagation efficiently\n",
        "\n",
        "    Returns:\n",
        "    dZ -- Gradient of the cost with respect to Z\n",
        "    \"\"\"\n",
        "\n",
        "    Z = cache\n",
        "    dZ = np.array(dA, copy=True) # just converting dz to a correct object.\n",
        "\n",
        "    # When z <= 0, you should set dz to 0 as well.\n",
        "    ### YOUR CODE STARTS HERE ### ~1 line\n",
        "\n",
        "    ### YOUR CODE ENDS HERE ###\n",
        "\n",
        "    assert (dZ.shape == Z.shape)\n",
        "\n",
        "    return dZ"
      ],
      "metadata": {
        "id": "A6oxrtdfD4hf"
      },
      "execution_count": null,
      "outputs": []
    },
    {
      "cell_type": "code",
      "source": [
        "np.random.seed(1)\n",
        "\n",
        "dA = np.random.randn(3,4)\n",
        "cache = np.random.randn(3,4)\n",
        "\n",
        "dZ = relu_backward(dA, cache)\n",
        "print('dZ: ', dZ)"
      ],
      "metadata": {
        "id": "-7GmrypkUXrD"
      },
      "execution_count": null,
      "outputs": []
    },
    {
      "cell_type": "markdown",
      "source": [
        "**Expected result:**       \n",
        "       \n",
        "<table style=\"width:80%\">\n",
        "  <tr>\n",
        "    <td> **dZ** </td>\n",
        "    <td>[[ 0.          0.         -0.52817175  0.        ]\n",
        " [ 0.          0.          1.74481176 -0.7612069 ]\n",
        " [ 0.         -0.24937038  1.46210794 -2.06014071]]</td>\n",
        "  </tr>\n",
        "  \n",
        "</table>"
      ],
      "metadata": {
        "id": "towh0JcrUfaX"
      }
    },
    {
      "cell_type": "markdown",
      "source": [
        "### **5.3 Partial Derivatives of the Activation of Layer $l$**"
      ],
      "metadata": {
        "id": "GAMylWhNSKG_"
      }
    },
    {
      "cell_type": "code",
      "execution_count": null,
      "metadata": {
        "id": "057W5sSCmhQO"
      },
      "outputs": [],
      "source": [
        "def linear_activation_backward(dA, cache, activation):\n",
        "    \"\"\"\n",
        "    Implement the backward propagation for the LINEAR->ACTIVATION layer.\n",
        "\n",
        "    Arguments:\n",
        "    dA -- post-activation gradient for current layer l\n",
        "    cache -- tuple of values (linear_cache, activation_cache) we store for computing backward propagation efficiently\n",
        "    activation -- the activation to be used in this layer, stored as a text string: \"sigmoid\" or \"relu\"\n",
        "\n",
        "    Returns:\n",
        "    dA_prev -- Gradient of the cost with respect to the activation (of the previous layer l-1), same shape as A_prev\n",
        "    dW -- Gradient of the cost with respect to W (current layer l), same shape as W\n",
        "    db -- Gradient of the cost with respect to b (current layer l), same shape as b\n",
        "    \"\"\"\n",
        "    linear_cache, activation_cache = cache\n",
        "\n",
        "    if activation == \"relu\":\n",
        "        ### YOUR CODE STARTS HERE ### ~2 lines\n",
        "\n",
        "        ### YOUR CODE ENDS HERE ###\n",
        "\n",
        "    elif activation == \"sigmoid\":\n",
        "        ### YOUR CODE STARTS HERE ### ~2 lines\n",
        "\n",
        "        ### YOUR CODE ENDS HERE ###\n",
        "\n",
        "    return dA_prev, dW, db"
      ]
    },
    {
      "cell_type": "markdown",
      "metadata": {
        "id": "cPJuJGkHmhQO"
      },
      "source": [
        "### **5.4: Backpropagation**\n",
        "\n",
        "The `linear_activation_backward` function calculates the backpropagation for a single layer $l$. Use this function to implement the `backward_pass` function, which performs the backpropagation of errors $L(\\hat{Y}, Y)$ through all layers of the network, from back to front. Schematically, the backpropagation process can be seen as follows:\n",
        "\n",
        "(Linear | ReLU) $\\times$ [L-1] $←$ (Linear | Sigmoid) $←$ $L(\\hat{Y}, Y)$"
      ]
    },
    {
      "cell_type": "code",
      "execution_count": null,
      "metadata": {
        "id": "X2Q4P78-mhQP"
      },
      "outputs": [],
      "source": [
        "def backward_pass(Y_hat, Y, caches):\n",
        "    \"\"\"\n",
        "    Implement the backward propagation for the [LINEAR->RELU] * (L-1) -> LINEAR -> SIGMOID group\n",
        "\n",
        "    Arguments:\n",
        "    AL -- probability vector, output of the forward propagation (L_model_forward())\n",
        "    Y -- true \"label\" vector (containing 0 if non-cat, 1 if cat)\n",
        "    caches -- list of caches containing:\n",
        "                every cache of linear_activation_forward() with \"relu\" (there are (L-1) or them, indexes from 0 to L-2)\n",
        "                the cache of linear_activation_forward() with \"sigmoid\" (there is one, index L-1)\n",
        "\n",
        "    Returns:\n",
        "    grads -- A dictionary with the gradients\n",
        "             grads[\"dA\" + str(l)] = ...\n",
        "             grads[\"dW\" + str(l)] = ...\n",
        "             grads[\"db\" + str(l)] = ...\n",
        "    \"\"\"\n",
        "    grads = {}\n",
        "    L = len(caches) # the number of layers\n",
        "    Y = Y.reshape(Y_hat.shape) # after this line, Y is the same shape as AL\n",
        "\n",
        "    # Compute d_Yhat to initialize the backpropagation\n",
        "    ### YOUR CODE STARTS HERE ### ~1 line\n",
        "\n",
        "    ### YOUR CODE ENDS HERE ###\n",
        "\n",
        "    # Lth layer (SIGMOID -> LINEAR) gradients. Inputs: \"Y_hat, Y, caches\". Outputs: \"grads[\"dAL\"], grads[\"dWL\"], grads[\"dbL\"]\n",
        "    ### YOUR CODE STARTS HERE ### ~2 lines\n",
        "\n",
        "    ### YOUR CODE ENDS HERE ###\n",
        "\n",
        "    for l in reversed(range(L-1)):\n",
        "        # lth layer: (RELU -> LINEAR) gradients.\n",
        "        ### YOUR CODE STARTS HERE ### ~5 lines\n",
        "\n",
        "        ### YOUR CODE ENDS HERE ###\n",
        "\n",
        "    return grads"
      ]
    },
    {
      "cell_type": "code",
      "source": [
        "np.random.seed(3)\n",
        "Y_hat = np.random.randn(1, 2); Y = np.array([[1, 0]])\n",
        "\n",
        "A1 = np.random.randn(4,2); W1 = np.random.randn(3,4); b1 = np.random.randn(3,1); Z1 = np.random.randn(3,2)\n",
        "linear_cache_activation_1 = ((A1, W1, b1), Z1)\n",
        "\n",
        "A2 = np.random.randn(3,2); W2 = np.random.randn(1,3); b2 = np.random.randn(1,1); Z2 = np.random.randn(1,2)\n",
        "linear_cache_activation_2 = ((A2, W2, b2), Z2)\n",
        "\n",
        "caches = (linear_cache_activation_1, linear_cache_activation_2)\n",
        "\n",
        "grads = backward_pass(Y_hat, Y, caches)\n",
        "\n",
        "print (\"dW1 = \"+ str(grads[\"dW1\"]))\n",
        "print (\"db1 = \"+ str(grads[\"db1\"]))\n",
        "print (\"dA1 = \"+ str(grads[\"dA1\"]))"
      ],
      "metadata": {
        "id": "0zN3Txs6cwFB"
      },
      "execution_count": null,
      "outputs": []
    },
    {
      "cell_type": "markdown",
      "source": [
        "**Expected result:**       \n",
        "\n",
        "<table style=\"width:60%\">\n",
        "  <tr>\n",
        "    <td > dW1 </td>\n",
        "           <td > [[0.41010002 0.07807203 0.13798444 0.10502167]\n",
        " [0.         0.         0.         0.        ]\n",
        " [0.05283652 0.01005865 0.01777766 0.0135308 ]] </td>\n",
        "  </tr>\n",
        "    <tr>\n",
        "    <td > db1 </td>\n",
        "           <td > [[-0.22007063]\n",
        " [ 0.        ]\n",
        " [-0.02835349]] </td>\n",
        "  </tr>\n",
        "  <tr>\n",
        "  <td > dA1 </td>\n",
        "           <td > [[ 0.          0.52257901]\n",
        " [ 0.         -0.3269206 ]\n",
        " [ 0.         -0.32070404]\n",
        " [ 0.         -0.74079187]] </td>\n",
        "  </tr>\n",
        "</table>\n",
        "\n"
      ],
      "metadata": {
        "id": "9Vb_GZjedlFf"
      }
    },
    {
      "cell_type": "markdown",
      "source": [
        "### **Part 6: Optimize weights with gradient descent**\n",
        "\n",
        "Before implementing the main gradient descent loop, implement an auxiliary function `update_parameters` to update the parameters of each layer $l$ of the MLP with their respective gradients. Remember that the gradient descent update rule is as follows:\n",
        "\n",
        "$$ W^{[l]} = W^{[l]} - \\alpha \\text{ } dW^{[l]} \\tag{16}$$\n",
        "$$ b^{[l]} = b^{[l]} - \\alpha \\text{ } db^{[l]} \\tag{17}$$\n",
        "\n",
        "where $\\alpha$ is the learning rate. Remember that all MLP parameters are stored in the `parameters` dictionary and the gradients in the `grads` dictionary."
      ],
      "metadata": {
        "id": "l3oj04bjgVKo"
      }
    },
    {
      "cell_type": "code",
      "execution_count": null,
      "metadata": {
        "id": "V-N2Gu3GmhQP"
      },
      "outputs": [],
      "source": [
        "def update_parameters(parameters, grads, learning_rate):\n",
        "    \"\"\"\n",
        "    Update parameters using gradient descent\n",
        "\n",
        "    Arguments:\n",
        "    parameters -- python dictionary containing your parameters\n",
        "    grads -- python dictionary containing your gradients, output of L_model_backward\n",
        "\n",
        "    Returns:\n",
        "    parameters -- python dictionary containing your updated parameters\n",
        "                  parameters[\"W\" + str(l)] = ...\n",
        "                  parameters[\"b\" + str(l)] = ...\n",
        "    \"\"\"\n",
        "\n",
        "    L = len(parameters) // 2 # number of layers in the neural network\n",
        "\n",
        "    # Update rule for each parameter. Use a for loop.\n",
        "    ### YOUR CODE STARTS HERE ### ~3 lines\n",
        "\n",
        "    ### YOUR CODE ENDS HERE ###\n",
        "\n",
        "    return parameters"
      ]
    },
    {
      "cell_type": "code",
      "source": [
        "np.random.seed(2)\n",
        "W1 = np.random.randn(3,4); b1 = np.random.randn(3,1)\n",
        "W2 = np.random.randn(1,3); b2 = np.random.randn(1,1)\n",
        "parameters = {\"W1\": W1, \"b1\": b1, \"W2\": W2, \"b2\": b2}\n",
        "\n",
        "np.random.seed(3)\n",
        "dW1 = np.random.randn(3,4); db1 = np.random.randn(3,1)\n",
        "dW2 = np.random.randn(1,3); db2 = np.random.randn(1,1)\n",
        "grads = {\"dW1\": dW1, \"db1\": db1, \"dW2\": dW2, \"db2\": db2}\n",
        "\n",
        "parameters = update_parameters(parameters, grads, 0.1)\n",
        "\n",
        "print (\"W1 = \"+ str(parameters[\"W1\"]))\n",
        "print (\"b1 = \"+ str(parameters[\"b1\"]))\n",
        "print (\"W2 = \"+ str(parameters[\"W2\"]))\n",
        "print (\"b2 = \"+ str(parameters[\"b2\"]))"
      ],
      "metadata": {
        "id": "4drZvdHBhQ-I"
      },
      "execution_count": null,
      "outputs": []
    },
    {
      "cell_type": "markdown",
      "source": [
        "**Expected result:**       \n",
        "\n",
        "<table style=\"width:100%\">\n",
        "    <tr>\n",
        "    <td > W1 </td>\n",
        "           <td > [[-0.59562069 -0.09991781 -2.14584584  1.82662008]\n",
        " [-1.76569676 -0.80627147  0.51115557 -1.18258802]\n",
        " [-1.0535704  -0.86128581  0.68284052  2.20374577]] </td>\n",
        "  </tr>\n",
        "    <tr>\n",
        "    <td > b1 </td>\n",
        "           <td > [[-0.04659241]\n",
        " [-1.28888275]\n",
        " [ 0.53405496]] </td>\n",
        "  </tr>\n",
        "  <tr>\n",
        "    <td > W2 </td>\n",
        "           <td > [[-0.55569196  0.0354055   1.32964895]]</td>\n",
        "  </tr>\n",
        "    <tr>\n",
        "    <td > b2 </td>\n",
        "           <td > [[-0.84610769]] </td>\n",
        "  </tr>\n",
        "</table>\n"
      ],
      "metadata": {
        "id": "Y8ge6K4ShkqS"
      }
    },
    {
      "cell_type": "markdown",
      "source": [
        "Implement the main gradient descent loop using the following functions implemented throughout this project: `initialize_parameters`, `forward_pass`, `binary_cross_entropy`, `backward_pass`, and `update_parameters`."
      ],
      "metadata": {
        "id": "MxX-APMXhIMf"
      }
    },
    {
      "cell_type": "code",
      "execution_count": null,
      "metadata": {
        "id": "V3-9Kz4GmrH0"
      },
      "outputs": [],
      "source": [
        "def optimize(X, Y, layers_dims, learning_rate = 0.0075, num_iterations = 3000, print_cost=False):\n",
        "    \"\"\"\n",
        "    Implements a L-layer neural network: [LINEAR->RELU]*(L-1)->LINEAR->SIGMOID.\n",
        "\n",
        "    Arguments:\n",
        "    X -- data, numpy array of shape (num_px * num_px * 3, number of examples)\n",
        "    Y -- true \"label\" vector (containing 0 if cat, 1 if non-cat), of shape (1, number of examples)\n",
        "    layers_dims -- list containing the input size and each layer size, of length (number of layers + 1).\n",
        "    learning_rate -- learning rate of the gradient descent update rule\n",
        "    num_iterations -- number of iterations of the optimization loop\n",
        "    print_cost -- if True, it prints the cost every 100 steps\n",
        "\n",
        "    Returns:\n",
        "    parameters -- parameters learnt by the model. They can then be used to predict.\n",
        "    \"\"\"\n",
        "\n",
        "    np.random.seed(1)\n",
        "    losses = []                         # keep track of cost\n",
        "\n",
        "    # Parameters initialization.\n",
        "    ### YOUR CODE STARTS HERE ### ~1 line\n",
        "\n",
        "    ### YOUR CODE ENDS HERE ###\n",
        "\n",
        "    # Loop (gradient descent)\n",
        "    for i in range(0, num_iterations):\n",
        "        # Forward propagation: [LINEAR -> RELU]*(L-1) -> LINEAR -> SIGMOID.\n",
        "        ### YOUR CODE STARTS HERE ### ~1 line\n",
        "\n",
        "        ### YOUR CODE ENDS HERE ###\n",
        "\n",
        "        # Compute cost.\n",
        "        ### YOUR CODE STARTS HERE ### ~1 line\n",
        "\n",
        "        ### YOUR CODE ENDS HERE ###\n",
        "\n",
        "        # Backward propagation.\n",
        "        ### YOUR CODE STARTS HERE ### ~1 line\n",
        "\n",
        "        ### YOUR CODE ENDS HERE ###\n",
        "\n",
        "        # Update parameters.\n",
        "        ### YOUR CODE STARTS HERE ### ~1 line\n",
        "\n",
        "        ### YOUR CODE ENDS HERE ###\n",
        "\n",
        "        # Print the cost every 100 training example\n",
        "        if print_cost and i % 100 == 0:\n",
        "            print (\"Loss after iteration %i: %f\" %(i, loss))\n",
        "        if print_cost and i % 100 == 0:\n",
        "            losses.append(loss)\n",
        "\n",
        "    return parameters, losses"
      ]
    },
    {
      "cell_type": "markdown",
      "metadata": {
        "id": "BVRewwpNmrH0"
      },
      "source": [
        "Next, you will use the `optimize` function to train a 2-layer MLP and plot its learning curve."
      ]
    },
    {
      "cell_type": "code",
      "execution_count": null,
      "metadata": {
        "scrolled": false,
        "id": "Eb6Nd_A4mrH1"
      },
      "outputs": [],
      "source": [
        "learning_rate = 0.0075\n",
        "layers_dims = [12288, 7, 1]\n",
        "\n",
        "parameters_2layers, losses_2layers = optimize(train_x, train_y, layers_dims, learning_rate, num_iterations = 2500, print_cost = True)\n",
        "\n",
        "# plot the cost\n",
        "plt.plot(np.squeeze(losses_2layers))\n",
        "plt.ylabel('cost')\n",
        "plt.xlabel('iterations (per hundreds)')\n",
        "plt.title(\"Learning rate =\" + str(learning_rate))\n",
        "plt.show()"
      ]
    },
    {
      "cell_type": "markdown",
      "source": [
        "**Expected result:**       \n",
        "<table>\n",
        "    <tr>\n",
        "        <td> **Custo após iteração 0**</td>\n",
        "        <td> 0.695046 </td>\n",
        "    </tr>\n",
        "    <tr>\n",
        "        <td> **Custo após iteração 100**</td>\n",
        "        <td> 0.589260 </td>\n",
        "    </tr>\n",
        "    <tr>\n",
        "        <td> **...**</td>\n",
        "        <td> ... </td>\n",
        "    </tr>\n",
        "    <tr>\n",
        "        <td> **Custo após iteração 2400**</td>\n",
        "        <td> 0.026615 </td>\n",
        "    </tr>\n",
        "</table>"
      ],
      "metadata": {
        "id": "3WRuaOYLkBla"
      }
    },
    {
      "cell_type": "markdown",
      "source": [
        "Now use the same `optimize` function to train a 4-layer MLP and plot its learning curve."
      ],
      "metadata": {
        "id": "_XLOOHvgjZ8f"
      }
    },
    {
      "cell_type": "code",
      "source": [
        "#  modelo com 4-camadas\n",
        "learning_rate = 0.0075\n",
        "layers_dims = [12288, 20, 7, 5, 1]\n",
        "\n",
        "parameters_4layers, losses_4layers = optimize(train_x, train_y, layers_dims, learning_rate, num_iterations = 2500, print_cost = True)\n",
        "\n",
        "# plot the cost\n",
        "plt.plot(np.squeeze(losses_4layers))\n",
        "plt.ylabel('cost')\n",
        "plt.xlabel('iterations (per hundreds)')\n",
        "plt.title(\"Learning rate =\" + str(learning_rate))\n",
        "plt.show()"
      ],
      "metadata": {
        "id": "5pFAiienet4a"
      },
      "execution_count": null,
      "outputs": []
    },
    {
      "cell_type": "markdown",
      "metadata": {
        "id": "A9XNJRQamrH1"
      },
      "source": [
        "**Expected result:**       \n",
        "<table>\n",
        "    <tr>\n",
        "        <td> **Cost after iteration 0**</td>\n",
        "        <td> 0.771749 </td>\n",
        "    </tr>\n",
        "    <tr>\n",
        "        <td> **Cost after iteration 100**</td>\n",
        "        <td> 0.672053 </td>\n",
        "    </tr>\n",
        "    <tr>\n",
        "        <td> **...**</td>\n",
        "        <td> ... </td>\n",
        "    </tr>\n",
        "    <tr>\n",
        "        <td> **Cost after iteration 2400**</td>\n",
        "        <td> 0.092878 </td>\n",
        "    </tr>\n",
        "</table>"
      ]
    },
    {
      "cell_type": "markdown",
      "source": [
        "### **Part 7: Evaluate trained models**\n",
        "\n",
        "Finally, apply the threshold $\\hat{y} =\n",
        "\\begin{cases}\n",
        "1,\\ \\text{if}\\ h(x) \\geq 0.5\\\\\n",
        "0,\\  \\text{if}\\ h(x) < 0.5\\\\\n",
        "\\end{cases}$ to classify all examples in a matrix X of examples."
      ],
      "metadata": {
        "id": "dWZSTNfAYxXT"
      }
    },
    {
      "cell_type": "code",
      "source": [
        "def predict(X, y, parameters):\n",
        "    \"\"\"\n",
        "    This function is used to predict the results of a  L-layer neural network.\n",
        "\n",
        "    Arguments:\n",
        "    X -- data set of examples you would like to label\n",
        "    parameters -- parameters of the trained model\n",
        "\n",
        "    Returns:\n",
        "    p -- predictions for the given dataset X\n",
        "    accuracy -- percentage of examples correcly labelled\n",
        "    \"\"\"\n",
        "\n",
        "    m = X.shape[1]\n",
        "    n = len(parameters) // 2 # number of layers in the neural network\n",
        "    p = np.zeros((1,m))\n",
        "\n",
        "    # Forward propagation\n",
        "    ### YOUR CODE STARTS HERE ### ~1 line\n",
        "\n",
        "    ### YOUR CODE ENDS HERE ###\n",
        "\n",
        "    # Convert probs to 0/1 predictions\n",
        "    ### YOUR CODE STARTS HERE ### ~3-5 lines\n",
        "\n",
        "    ### YOUR CODE ENDS HERE ###\n",
        "\n",
        "    # Compute accuracy\n",
        "    ### YOUR CODE STARTS HERE ### ~1 line\n",
        "\n",
        "    ### YOUR CODE ENDS HERE ###\n",
        "\n",
        "    return accuracy"
      ],
      "metadata": {
        "id": "ZhghYM1QsIZ8"
      },
      "execution_count": null,
      "outputs": []
    },
    {
      "cell_type": "code",
      "execution_count": null,
      "metadata": {
        "scrolled": true,
        "id": "UQ6sIaKAmrH1"
      },
      "outputs": [],
      "source": [
        "accuracy_train_2layers = predict(train_x, train_y, parameters_2layers)\n",
        "accuracy_test_2layers = predict(test_x, test_y, parameters_2layers)\n",
        "\n",
        "accuracy_train_4layers = predict(train_x, train_y, parameters_4layers)\n",
        "accuracy_test_4layers = predict(test_x, test_y, parameters_4layers)\n",
        "\n",
        "print(\"2 Layer Train Accuracy:\", accuracy_train_2layers)\n",
        "print(\"2 Layer Test Accuracy:\", accuracy_test_2layers)\n",
        "print(\"4 Layer Train Accuracy:\", accuracy_train_4layers)\n",
        "print(\"4 Layer Test Accuracy:\", accuracy_test_4layers)"
      ]
    },
    {
      "cell_type": "markdown",
      "metadata": {
        "id": "YCUTZ-TvmrH1"
      },
      "source": [
        "**Expected result:**       \n",
        "<table>\n",
        "    <tr>\n",
        "    <td>\n",
        "    **2 Layer Train Accuracy**\n",
        "    </td>\n",
        "    <td>\n",
        "    0.9999999999999998\n",
        "    </td>\n",
        "    </tr>\n",
        "    <tr>\n",
        "    <td> **2 Layer Test Accuracy**</td>\n",
        "    <td> 0.74 </td>\n",
        "    </tr>\n",
        "        <tr>\n",
        "    <td> **4 Layer Train Accuracy**</td>\n",
        "    <td> 0.9856459330143539 </td>\n",
        "    </tr>\n",
        "        <tr>\n",
        "    <td> **4 Layer Test Accuracy**</td>\n",
        "    <td> 0.8 </td>\n",
        "    </tr>\n",
        "</table>"
      ]
    },
    {
      "cell_type": "markdown",
      "metadata": {
        "id": "DsgiE9YDmrH1"
      },
      "source": [
        "Congratulations! Your 4-layer MLP performed better (80%) than your 2-layer MLP (72%) when evaluated with your test data. This is a good performance!"
      ]
    },
    {
      "cell_type": "markdown",
      "source": [
        "### **Part 8: Test with your own images**\n",
        "\n",
        "To test your model with your own images, you'll need to upload the images you want to test to your UFV Google Drive. Then configure the `image_path` variable in the cell below to point to the path of the image in your Google Drive. Note that the path to the root directory of your Google Drive is \"/content/gdrive/MyDrive/\". Therefore, if your image is in the root of your Google Drive and is called \"my_cat.jpg\", the variable should be configured as `image_path = /content/gdrive/MyDrive/my_cat.jpg`"
      ],
      "metadata": {
        "id": "P5lKU_WgCAvl"
      }
    },
    {
      "cell_type": "code",
      "source": [
        "from google.colab import drive\n",
        "drive.mount('/content/gdrive')\n",
        "\n",
        "### YOUR CODE STARTS HERE ### ~1 line\n",
        "image_path = \"/content/gdrive/MyDrive/<path_to_img>.jpg\"\n",
        "### YOUR CODE ENDS HERE ###\n",
        "\n",
        "# We preprocess the image to fit your algorithm.\n",
        "with Image.open(image_path) as im:\n",
        "  low_res_image = np.array(im.resize((num_px, num_px)))\n",
        "\n",
        "x = low_res_image.reshape((num_px * num_px * 3, 1))\n",
        "y = predict(x, w, b)\n",
        "\n",
        "plt.imshow(low_res_image)\n",
        "print(\"y = \" + str(np.squeeze(y)) + \", your algorithm predicts a \\\"\" + classes[int(np.squeeze(y)),].decode(\"utf-8\") +  \"\\\" picture.\")"
      ],
      "metadata": {
        "id": "Hc_vxmsECIG7"
      },
      "execution_count": null,
      "outputs": []
    }
  ]
}